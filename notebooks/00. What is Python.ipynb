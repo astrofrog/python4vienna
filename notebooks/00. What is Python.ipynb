{
 "metadata": {
  "name": "",
  "signature": "sha256:fe94c3db6a294f1ddb141215960a62d1ca4134d4dccaf92c744b8f7c552cf1f5"
 },
 "nbformat": 3,
 "nbformat_minor": 0,
 "worksheets": [
  {
   "cells": [
    {
     "cell_type": "heading",
     "level": 1,
     "metadata": {},
     "source": [
      "What is Python?"
     ]
    },
    {
     "cell_type": "markdown",
     "metadata": {
      "slideshow": {
       "slide_type": "notes"
      }
     },
     "source": [
      "![Python Logo](https://www.python.org/static/community_logos/python-logo-master-v3-TM.png)"
     ]
    },
    {
     "cell_type": "heading",
     "level": 2,
     "metadata": {},
     "source": [
      "How does Python compare to other languages?"
     ]
    },
    {
     "cell_type": "markdown",
     "metadata": {
      "slideshow": {
       "slide_type": "slide"
      }
     },
     "source": [
      "Python is an **interpreted** language, which means that the code is not compiled in advance, which makes it slower than languages like C/C++ or Fortran. Why therefore would we want to learn/use it?\n",
      "\n",
      "* It has a clean and simple syntax which emphasises readability\n",
      "* It can be much faster to write programs in than other languages\n",
      "* It gives detailed errors by default which makes it easier to fix bugs\n",
      "* It is easy to use for interactive analysis\n",
      "* A large ecosystem of packages for scientific analysis, including numerical analysis (interpolation, integration, clustering, FFTs, linear algebra, signal processing, stats, etc), databases, graphical interfaces, web scraping, 'big data' access, interfaces to hardware, etc.\n",
      "* It is easy to interface with C/Fortran code\n",
      "* It can interact with command-line programs, and other languages\n",
      "* Packages such as Numpy (for arrays) are written in C, which means that we get the convenience of Python and the speed of C\n",
      "* There is a strong community of friendly developers!"
     ]
    },
    {
     "cell_type": "heading",
     "level": 2,
     "metadata": {},
     "source": [
      "A growing ecosystem of packages for Astronomy"
     ]
    },
    {
     "cell_type": "markdown",
     "metadata": {},
     "source": [
      "Astropy Core Package:\n",
      "\n",
      "* Unit conversion/handling\n",
      "* Powerful table operations and reading/writing\n",
      "* Date and time conversions\n",
      "* Celestial coordinate systems\n",
      "* Modeling/fitting\n",
      "* Common analytic functions\n",
      "* FITS file and VO table handling\n",
      "* Reading/writing many ASCII table formats\n",
      "* Convolution/filtering\n",
      "* Cosmological calculations\n",
      "* Astrostatistics\n",
      "\n",
      "Affiliated Packages:\n",
      "\n",
      "* Image reprojection\n",
      "* Publication-quality image plotting\n",
      "* Machine learning\n",
      "* Photometry\n",
      "* Interface to many web services/archives (both VO and non-VO)\n",
      "* Gamma-ray data analysis\n",
      "* CCD image reduction\n",
      "* Interfaces to ds9\n",
      "* Spectroscopic analysis\n",
      "\n",
      "and so on..."
     ]
    },
    {
     "cell_type": "heading",
     "level": 2,
     "metadata": {},
     "source": [
      "Why it called 'Python'?"
     ]
    },
    {
     "cell_type": "markdown",
     "metadata": {
      "slideshow": {
       "slide_type": "slide"
      }
     },
     "source": [
      "Even though the Python logo has snakes in it, Python originally comes from the [Monty Python](http://en.wikipedia.org/wiki/Monty_Python) comedy group!\n",
      "\n",
      "![](http://mpia.de/~robitaille/python/monty-python.jpg)\n",
      "\n",
      "Therefore, a lot of official Python documentation includes jokes related to the Monty Python!"
     ]
    },
    {
     "cell_type": "heading",
     "level": 2,
     "metadata": {},
     "source": [
      "A note on Python 2 vs 3"
     ]
    },
    {
     "cell_type": "markdown",
     "metadata": {
      "slideshow": {
       "slide_type": "slide"
      }
     },
     "source": [
      "The latest version of Python is currently 3.4, but you should be aware that many (~80%) people are still using version 2.7 (the latest 2.x release). Most packages actually support Python 3, but there is inertia in using Python 3 because it requires some small changes in scripts for them to work. In this course, we will learn Python 3.x syntax directly, but I will point out later in the course what changes are required if you ever need to use the older Python 2.x."
     ]
    }
   ],
   "metadata": {}
  }
 ]
}