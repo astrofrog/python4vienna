{
 "metadata": {
  "name": "",
  "signature": "sha256:81f0902d60a6d280ec227e3fc9eb60fb9311643e16f769cfd560e3941f836ad9"
 },
 "nbformat": 3,
 "nbformat_minor": 0,
 "worksheets": [
  {
   "cells": [
    {
     "cell_type": "heading",
     "level": 1,
     "metadata": {},
     "source": [
      "What is Python?"
     ]
    },
    {
     "cell_type": "markdown",
     "metadata": {
      "slideshow": {
       "slide_type": "notes"
      }
     },
     "source": [
      "![Python Logo](https://www.python.org/static/community_logos/python-logo-master-v3-TM.png)"
     ]
    },
    {
     "cell_type": "heading",
     "level": 2,
     "metadata": {},
     "source": [
      "How does Python compare to other languages?"
     ]
    },
    {
     "cell_type": "markdown",
     "metadata": {
      "slideshow": {
       "slide_type": "slide"
      }
     },
     "source": [
      "Python is an **interpreted** language, which means that the code is not compiled in advance, which makes it slower than languages like C/C++ or Fortran. Why therefore would we want to learn/use it?\n",
      "\n",
      "* It has a clean and simple syntax which emphasises readability\n",
      "* It can be much faster to write programs in than other languages\n",
      "* It gives detailed errors by default which makes it easier to fix bugs\n",
      "* It is easy to use for interactive analysis\n",
      "* It has a large ecosystem of packages available for everything from numerical analysis, databases, graphical interfaces, web scraping...\n",
      "* It is easy to interface with C/Fortran code\n",
      "* It can interact with command-line programs, and other languages\n",
      "* Packages such as Numpy (for arrays) are written in C, which means that we get the convenience of Python and the speed of C\n",
      "* There is a strong community of friendly developers!"
     ]
    },
    {
     "cell_type": "heading",
     "level": 2,
     "metadata": {},
     "source": [
      "Why it called 'Python'?"
     ]
    },
    {
     "cell_type": "markdown",
     "metadata": {
      "slideshow": {
       "slide_type": "slide"
      }
     },
     "source": [
      "Even though the Python logo has snakes in it, Python originally comes from the [Monty Python](http://en.wikipedia.org/wiki/Monty_Python) comedy group!\n",
      "\n",
      "![](http://mpia.de/~robitaille/python/monty-python.jpg)\n",
      "\n",
      "Therefore, a lot of official Python documentation includes jokes related to the Monty Python!"
     ]
    },
    {
     "cell_type": "heading",
     "level": 2,
     "metadata": {},
     "source": [
      "A note on Python 2 vs 3"
     ]
    },
    {
     "cell_type": "markdown",
     "metadata": {
      "slideshow": {
       "slide_type": "slide"
      }
     },
     "source": [
      "The latest version of Python is currently 3.4, but you should be aware that many (~80%) people are still using version 2.7 (the latest 2.x release). Most packages actually support Python 3, but there is inertia in using Python 3 because it requires some small changes in scripts for them to work. In this course, we will learn Python 3.x syntax directly, but I will point out later in the course what changes are required if you ever need to use the older Python 2.x."
     ]
    }
   ],
   "metadata": {}
  }
 ]
}