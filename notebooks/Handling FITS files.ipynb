{
 "metadata": {
  "name": ""
 },
 "nbformat": 3,
 "nbformat_minor": 0,
 "worksheets": [
  {
   "cells": [
    {
     "cell_type": "markdown",
     "metadata": {},
     "source": [
      "Handling FITS files\n",
      "===================\n",
      "\n",
      "Documentation\n",
      "-------------\n",
      "\n",
      "For more information about the features presented below, you can read the\n",
      "[astropy.io.fits](http://docs.astropy.org/en/stable/io/fits/index.html) docs.\n",
      "\n",
      "Data\n",
      "----\n",
      "\n",
      "The data used in this page is a [model of the gamma-ray sky background](data/gll_iem_v02_P6_V11_DIFFUSE.fit) used for the LAT instrument on the Fermi telescope, as well as the *Fermi*/LAT [point source catalog](data/gll_psc_v08.fit).\n",
      "\n",
      "Reading FITS files and accessing data\n",
      "-------------------------------------\n",
      "\n",
      "Opening a FITS file is relatively straightforward. We can open the\n",
      "background model included in the tutorial files:"
     ]
    },
    {
     "cell_type": "code",
     "collapsed": false,
     "input": [
      "from astropy.io import fits"
     ],
     "language": "python",
     "metadata": {},
     "outputs": [],
     "prompt_number": 1
    },
    {
     "cell_type": "code",
     "collapsed": false,
     "input": [
      "hdulist = fits.open('data/gll_iem_v02_P6_V11_DIFFUSE.fit')"
     ],
     "language": "python",
     "metadata": {},
     "outputs": [],
     "prompt_number": 2
    },
    {
     "cell_type": "markdown",
     "metadata": {},
     "source": [
      "The returned object, ``hdulist``, behaves like a Python list, and each element\n",
      "maps to a Header-Data Unit (HDU) in the FITS file. You can view more\n",
      "information about the FITS file with:"
     ]
    },
    {
     "cell_type": "code",
     "collapsed": false,
     "input": [
      "hdulist.info()"
     ],
     "language": "python",
     "metadata": {},
     "outputs": [
      {
       "output_type": "stream",
       "stream": "stdout",
       "text": [
        "Filename: data/gll_iem_v02_P6_V11_DIFFUSE.fit\n",
        "No.    Name         Type      Cards   Dimensions   Format\n",
        "0    PRIMARY     PrimaryHDU      34   (720, 360, 30)   float32   \n",
        "1    ENERGIES    BinTableHDU     19   30R x 1C     [D]   \n"
       ]
      }
     ],
     "prompt_number": 3
    },
    {
     "cell_type": "markdown",
     "metadata": {},
     "source": [
      "As we can see, this file contains two HDUs. To access the primary HDU, which\n",
      "contains the main data, you can then do:"
     ]
    },
    {
     "cell_type": "code",
     "collapsed": false,
     "input": [
      "hdu = hdulist[0]"
     ],
     "language": "python",
     "metadata": {},
     "outputs": [],
     "prompt_number": 4
    },
    {
     "cell_type": "markdown",
     "metadata": {},
     "source": [
      "The ``hdu`` object then has two important attributes: ``data``, which behaves\n",
      "like a Numpy array, can be used to access the data, and ``header``, which\n",
      "behaves like a dictionary, can be used to access the header information.\n",
      "First, we can take a look at the data:"
     ]
    },
    {
     "cell_type": "code",
     "collapsed": false,
     "input": [
      "hdu.data.shape"
     ],
     "language": "python",
     "metadata": {},
     "outputs": [
      {
       "output_type": "pyout",
       "prompt_number": 5,
       "text": [
        "(30, 360, 720)"
       ]
      }
     ],
     "prompt_number": 5
    },
    {
     "cell_type": "markdown",
     "metadata": {},
     "source": [
      "This tells us that it is a 3-d cube. We can now take a peak at the header:"
     ]
    },
    {
     "cell_type": "code",
     "collapsed": false,
     "input": [
      "hdu.header"
     ],
     "language": "python",
     "metadata": {},
     "outputs": [
      {
       "output_type": "pyout",
       "prompt_number": 6,
       "text": [
        "SIMPLE  =                    T / Written by IDL:  Thu Jan 20 07:19:05 2011      \n",
        "BITPIX  =                  -32 /                                                \n",
        "NAXIS   =                    3 / number of data axes                            \n",
        "NAXIS1  =                  720 / length of data axis 1                          \n",
        "NAXIS2  =                  360 / length of data axis 2                          \n",
        "NAXIS3  =                   30 / length of data axis 3                          \n",
        "EXTEND  =                    T / FITS dataset may contain extensions            \n",
        "COMMENT   FITS (Flexible Image Transport System) format is defined in 'Astronomy\n",
        "COMMENT   and Astrophysics', volume 376, page 359; bibcode: 2001A&A...376..359H \n",
        "FLUX    =        8.42259635886 /                                                \n",
        "CRVAL1  =                   0. / Value of longitude in pixel CRPIX1             \n",
        "CDELT1  =                  0.5 / Step size in longitude                         \n",
        "CRPIX1  =                360.5 / Pixel that has value CRVAL1                    \n",
        "CTYPE1  = 'GLON-CAR'           / The type of parameter 1 (Galactic longitude in \n",
        "CUNIT1  = 'deg     '           / The unit of parameter 1                        \n",
        "CRVAL2  =                   0. / Value of latitude in pixel CRPIX2              \n",
        "CDELT2  =                  0.5 / Step size in latitude                          \n",
        "CRPIX2  =                180.5 / Pixel that has value CRVAL2                    \n",
        "CTYPE2  = 'GLAT-CAR'           / The type of parameter 2 (Galactic latitude in C\n",
        "CUNIT2  = 'deg     '           / The unit of parameter 2                        \n",
        "CRVAL3  =                  50. / Energy of pixel CRPIX3                         \n",
        "CDELT3  =    0.113828620540137 / log10 of step size in energy (if it is logarith\n",
        "CRPIX3  =                   1. / Pixel that has value CRVAL3                    \n",
        "CTYPE3  = 'photon energy'      / Axis 3 is the spectra                          \n",
        "CUNIT3  = 'MeV     '           / The unit of axis 3                             \n",
        "CHECKSUM= '3fdO3caL3caL3caL'   / HDU checksum updated 2009-07-07T22:31:18       \n",
        "DATASUM = '2184619035'         / data unit checksum updated 2009-07-07T22:31:18 \n",
        "DATE    = '2009-07-07'         /                                                \n",
        "FILENAME= '$TEMPDIR/diffuse/gll_iem_v02.fit' /File name with version number     \n",
        "TELESCOP= 'GLAST   '           /                                                \n",
        "INSTRUME= 'LAT     '           /                                                \n",
        "ORIGIN  = 'LISOC   '           /LAT team product delivered from the LISOC       \n",
        "OBSERVER= 'MICHELSON'          /Instrument PI                                   \n",
        "HISTORY Scaled version of gll_iem_v02.fit for use with P6_V11_DIFFUSE           "
       ]
      }
     ],
     "prompt_number": 6
    },
    {
     "cell_type": "markdown",
     "metadata": {},
     "source": [
      "which shows that this is a Plate Carr\u00e9e (``-CAR``) projection in Galactic\n",
      "Coordinates, and the third axis is photon energy. We can access individual\n",
      "header keywords using standard item notation:"
     ]
    },
    {
     "cell_type": "code",
     "collapsed": false,
     "input": [
      "hdu.header['TELESCOP']"
     ],
     "language": "python",
     "metadata": {},
     "outputs": [
      {
       "output_type": "pyout",
       "prompt_number": 7,
       "text": [
        "'GLAST'"
       ]
      }
     ],
     "prompt_number": 7
    },
    {
     "cell_type": "code",
     "collapsed": false,
     "input": [
      "hdu.header['INSTRUME']"
     ],
     "language": "python",
     "metadata": {},
     "outputs": [
      {
       "output_type": "pyout",
       "prompt_number": 8,
       "text": [
        "'LAT'"
       ]
      }
     ],
     "prompt_number": 8
    },
    {
     "cell_type": "markdown",
     "metadata": {},
     "source": [
      "Provided that we started up ``ipython`` with the ``--pylab`` flag, we can plot\n",
      "one of the slices in photon energy:"
     ]
    },
    {
     "cell_type": "code",
     "collapsed": false,
     "input": [
      "plt.imshow(hdu.data[0,:,:], origin='lower')"
     ],
     "language": "python",
     "metadata": {},
     "outputs": [
      {
       "output_type": "pyout",
       "prompt_number": 9,
       "text": [
        "<matplotlib.image.AxesImage at 0x1141a8d90>"
       ]
      },
      {
       "output_type": "display_data",
       "png": "[encoded data removed]",
       "text": [
        "<matplotlib.figure.Figure at 0x11222d850>"
       ]
      }
     ],
     "prompt_number": 9
    },
    {
     "cell_type": "markdown",
     "metadata": {},
     "source": [
      "Note that this is just a plot of an array, so the coordinates are just pixel\n",
      "coordinates at this stage. The data is stored with longitude increasing to the\n",
      "right (the opposite of the normal convention), but the Level 3 problem at the\n",
      "bottom of this page shows how to correctly flip the image.\n",
      "\n",
      "Modifying data or header information in a FITS file object is easy. We can\n",
      "update existing header keywords:"
     ]
    },
    {
     "cell_type": "code",
     "collapsed": false,
     "input": [
      "hdu.header['TELESCOP'] = \"Fermi Gamma-ray Space Telescope\""
     ],
     "language": "python",
     "metadata": {},
     "outputs": [],
     "prompt_number": 10
    },
    {
     "cell_type": "markdown",
     "metadata": {},
     "source": [
      "or add new ones:"
     ]
    },
    {
     "cell_type": "code",
     "collapsed": false,
     "input": [
      "hdu.header['MODIFIED'] = '21 Nov 2013'  # adds a new keyword"
     ],
     "language": "python",
     "metadata": {},
     "outputs": [],
     "prompt_number": 11
    },
    {
     "cell_type": "markdown",
     "metadata": {},
     "source": [
      "and we can also change the data, for example extracting only the first slice\n",
      "in photon energy:"
     ]
    },
    {
     "cell_type": "code",
     "collapsed": false,
     "input": [
      "hdu.data = hdu.data[0,:,:]"
     ],
     "language": "python",
     "metadata": {},
     "outputs": [],
     "prompt_number": 12
    },
    {
     "cell_type": "markdown",
     "metadata": {},
     "source": [
      "Note that this does not change the original FITS file, simply the FITS file\n",
      "object in memory. Since the data is now 2-dimensional, we can remove the WCS keywords for the third dimension:"
     ]
    },
    {
     "cell_type": "code",
     "collapsed": false,
     "input": [
      "hdu.header.remove('CRPIX3')\n",
      "hdu.header.remove('CRVAL3')\n",
      "hdu.header.remove('CDELT3')\n",
      "hdu.header.remove('CUNIT3')\n",
      "hdu.header.remove('CTYPE3')"
     ],
     "language": "python",
     "metadata": {},
     "outputs": [],
     "prompt_number": 13
    },
    {
     "cell_type": "markdown",
     "metadata": {},
     "source": [
      "You can write the FITS file object to a file with:"
     ]
    },
    {
     "cell_type": "code",
     "collapsed": false,
     "input": [
      "hdu.writeto('lat_background_model_slice.fits', clobber=True)"
     ],
     "language": "python",
     "metadata": {},
     "outputs": [],
     "prompt_number": 14
    },
    {
     "cell_type": "markdown",
     "metadata": {},
     "source": [
      "if you want to simply write out this HDU to a file, or:"
     ]
    },
    {
     "cell_type": "code",
     "collapsed": false,
     "input": [
      "hdulist.writeto('lat_background_model_slice_allhdus.fits', clobber=True)"
     ],
     "language": "python",
     "metadata": {},
     "outputs": [],
     "prompt_number": 15
    },
    {
     "cell_type": "markdown",
     "metadata": {},
     "source": [
      "if you want to write out all of the original HDUs, including the modified one,\n",
      "to a file.\n",
      "\n",
      "Creating a FITS file from scratch\n",
      "---------------------------------\n",
      "\n",
      "If you want to create a FITS file from scratch, you need to start off by creating an HDU object:"
     ]
    },
    {
     "cell_type": "code",
     "collapsed": false,
     "input": [
      "hdu = fits.PrimaryHDU()"
     ],
     "language": "python",
     "metadata": {},
     "outputs": [],
     "prompt_number": 16
    },
    {
     "cell_type": "markdown",
     "metadata": {},
     "source": [
      "and you can then populate the data and header attributes with whatever information you like:"
     ]
    },
    {
     "cell_type": "code",
     "collapsed": false,
     "input": [
      "import numpy as np"
     ],
     "language": "python",
     "metadata": {},
     "outputs": [],
     "prompt_number": 17
    },
    {
     "cell_type": "code",
     "collapsed": false,
     "input": [
      "hdu.data = np.random.random((128,128))"
     ],
     "language": "python",
     "metadata": {},
     "outputs": [],
     "prompt_number": 18
    },
    {
     "cell_type": "markdown",
     "metadata": {},
     "source": [
      "Note that setting the data automatically populates the header with basic information:"
     ]
    },
    {
     "cell_type": "code",
     "collapsed": false,
     "input": [
      "hdu.header"
     ],
     "language": "python",
     "metadata": {},
     "outputs": [
      {
       "output_type": "pyout",
       "prompt_number": 19,
       "text": [
        "SIMPLE  =                    T / conforms to FITS standard                      \n",
        "BITPIX  =                  -64 / array data type                                \n",
        "NAXIS   =                    2 / number of array dimensions                     \n",
        "NAXIS1  =                  128                                                  \n",
        "NAXIS2  =                  128                                                  \n",
        "EXTEND  =                    T                                                  "
       ]
      }
     ],
     "prompt_number": 19
    },
    {
     "cell_type": "markdown",
     "metadata": {},
     "source": [
      "and you should never have to set header keywords such as ``NAXIS``, ``NAXIS1``, and so on manually. We can then set additional header keywords:"
     ]
    },
    {
     "cell_type": "code",
     "collapsed": false,
     "input": [
      "hdu.header['telescop'] = 'Python Observatory'"
     ],
     "language": "python",
     "metadata": {},
     "outputs": [],
     "prompt_number": 20
    },
    {
     "cell_type": "markdown",
     "metadata": {},
     "source": [
      "and we can then write out the FITS file to disk:"
     ]
    },
    {
     "cell_type": "code",
     "collapsed": false,
     "input": [
      "hdu.writeto('random_array.fits', clobber=True)"
     ],
     "language": "python",
     "metadata": {},
     "outputs": [],
     "prompt_number": 21
    },
    {
     "cell_type": "markdown",
     "metadata": {},
     "source": [
      "Convenience functions\n",
      "---------------------\n",
      "\n",
      "In cases where you just want to access the data or header in a specific HDU,\n",
      "you can use the following convenience functions:"
     ]
    },
    {
     "cell_type": "code",
     "collapsed": false,
     "input": [
      "data = fits.getdata('data/gll_iem_v02_P6_V11_DIFFUSE.fit')\n",
      "header = fits.getheader('data/gll_iem_v02_P6_V11_DIFFUSE.fit')"
     ],
     "language": "python",
     "metadata": {},
     "outputs": [],
     "prompt_number": 23
    },
    {
     "cell_type": "markdown",
     "metadata": {},
     "source": [
      "To get the data or header for an HDU other than the first, you can specify the\n",
      "extension name or index. The second HDU is called ``energies``, so we can do:"
     ]
    },
    {
     "cell_type": "code",
     "collapsed": false,
     "input": [
      "data = fits.getdata('data/gll_iem_v02_P6_V11_DIFFUSE.fit', extname='energies')"
     ],
     "language": "python",
     "metadata": {},
     "outputs": [],
     "prompt_number": 24
    },
    {
     "cell_type": "markdown",
     "metadata": {},
     "source": [
      "or:"
     ]
    },
    {
     "cell_type": "code",
     "collapsed": false,
     "input": [
      "data = fits.getdata('data/gll_iem_v02_P6_V11_DIFFUSE.fit', ext=1)"
     ],
     "language": "python",
     "metadata": {},
     "outputs": [],
     "prompt_number": 25
    },
    {
     "cell_type": "markdown",
     "metadata": {},
     "source": [
      "and similarly for ``getheader``.\n",
      "\n",
      "Accessing Tabular Data\n",
      "----------------------\n",
      "\n",
      "Tabular data behaves very similarly to image data such as that shown above,\n",
      "but the data array is a structured Numpy array which requires column access\n",
      "via the item notation:"
     ]
    },
    {
     "cell_type": "code",
     "collapsed": false,
     "input": [
      "from astropy.io import fits\n",
      "hdulist = fits.open('data/gll_psc_v08.fit')"
     ],
     "language": "python",
     "metadata": {},
     "outputs": [],
     "prompt_number": 26
    },
    {
     "cell_type": "code",
     "collapsed": false,
     "input": [
      "hdulist[1].name"
     ],
     "language": "python",
     "metadata": {},
     "outputs": [
      {
       "output_type": "pyout",
       "prompt_number": 27,
       "text": [
        "'LAT_Point_Source_Catalog'"
       ]
      }
     ],
     "prompt_number": 27
    },
    {
     "cell_type": "code",
     "collapsed": false,
     "input": [
      "hdulist[1].data['RAJ2000']"
     ],
     "language": "python",
     "metadata": {},
     "outputs": [
      {
       "output_type": "pyout",
       "prompt_number": 28,
       "text": [
        "array([  2.33711034e-01,   4.38849270e-01,   6.79812014e-01, ...,\n",
        "         3.59759430e+02,   3.59859894e+02,   3.59906921e+02], dtype=float32)"
       ]
      }
     ],
     "prompt_number": 28
    },
    {
     "cell_type": "code",
     "collapsed": false,
     "input": [
      "hdulist[1].data['DEJ2000']"
     ],
     "language": "python",
     "metadata": {},
     "outputs": [
      {
       "output_type": "pyout",
       "prompt_number": 29,
       "text": [
        "array([ -7.81549788, -41.99647903,  62.33962631, ..., -30.62516785,\n",
        "        67.86333466,  65.73053741], dtype=float32)"
       ]
      }
     ],
     "prompt_number": 29
    },
    {
     "cell_type": "markdown",
     "metadata": {},
     "source": [
      "Practical Exercises\n",
      "-------------------\n",
      "\n",
      "### Level 1\n",
      "\n",
      "Try and read in one of your own FITS files using ``astropy.io.fits``, and\n",
      "see if you can also plot the array values in Matplotlib. Also, examine the\n",
      "header, and try and extract individual values. You can even try and modify\n",
      "the data/header and write the data back out - but take care not to write\n",
      "over the original file!\n",
      "\n",
      "### Level 2\n",
      "\n",
      "Read in the LAT Point Source Catalog and make a scatter plot of the\n",
      "Galactic Coordinates of the sources (complete with axis labels). Bonus\n",
      "points if you can make the plot go between -180 and 180 instead of 0 and\n",
      "360 degrees. Note that the Point Source Catalog contains the Galactic\n",
      "Coordinates, so no need to convert them.\n",
      "    \n",
      "### Level 3\n",
      "\n",
      "Using Matplotlib, make an all-sky plot of the LAT Background Model in the\n",
      "Plate Car\u00e9e projection showing the LAT Point Source Catalog overlaid with\n",
      "markers, and with the correct coordinates on the axes. You should do this\n",
      "using only ``astropy.io.fits``, Numpy, and Matplotlib (no WCS or\n",
      "coordinate conversion library). Hint: the -CAR projection is such that the\n",
      "x pixel position is proportional to longitude, and the y pixel position to\n",
      "latitude. Bonus points for a pretty colormap."
     ]
    }
   ],
   "metadata": {}
  }
 ]
}