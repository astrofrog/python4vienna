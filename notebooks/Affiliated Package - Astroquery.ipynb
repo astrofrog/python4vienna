{
 "metadata": {
  "name": "",
  "signature": "sha256:65363a278edba7569f9afcc4e469d034ed5311b77521fca014dd64b357af5898"
 },
 "nbformat": 3,
 "nbformat_minor": 0,
 "worksheets": [
  {
   "cells": [
    {
     "cell_type": "heading",
     "level": 1,
     "metadata": {},
     "source": [
      "Affiliated Package: Astroquery"
     ]
    },
    {
     "cell_type": "markdown",
     "metadata": {},
     "source": [
      "[Astroquery](http://www.astropy.org/astroquery/) is an Astropy-affiliated package that contains a collection of tools to access online Astronomical data.\n",
      "\n",
      "The following modules have been completed using a common API:\n",
      "\n",
      "* SIMBAD Queries (``astroquery.simbad``)\n",
      "* VizieR Queries (``astroquery.vizier``)\n",
      "* IRSA Dust Extinction Service Queries (``astroquery.irsa_dust``)\n",
      "* NED Queries (``astroquery.ned``)\n",
      "* Splatalogue Queries (``astroquery.splatalogue``)\n",
      "* IRSA Queries (``astroquery.irsa``)\n",
      "* UKIDSS Queries (``astroquery.ukidss``)\n",
      "* MAGPIS Queries (``astroquery.magpis``)\n",
      "* NRAO Queries (``astroquery.nrao``)\n",
      "* Besancon Queries (``astroquery.besancon``)\n",
      "* NIST Queries (``astroquery.nist``)\n",
      "* NVAS Queries (``astroquery.nvas``)\n",
      "* GAMA Queries (``astroquery.gama``)\n",
      "* ESO Queries (``astroquery.eso``)\n",
      "* xMatch Queries (``astroquery.xmatch``)\n",
      "* Atomic Line List (``astroquery.atomic``)\n",
      "* ALMA Queries (``astroquery.alma``)\n",
      "* Skyview Queries (``astroquery.skyview``)\n",
      "* NASA ADS Queries (``astroquery.nasa_ads``)\n",
      "* HEASARC Queries (``astroquery.heasarc``)\n",
      "\n",
      "These others are functional, but do not follow a common & consistent API:\n",
      "\n",
      "* Fermi Queries (``astroquery.fermi``)\n",
      "* SDSS Queries (``astroquery.sdss``)\n",
      "* ALFALFA Queries (``astroquery.alfalfa``)\n",
      "* Spitzer Heritage Archive (``astroquery.sha``)\n",
      "* LAMDA Queries (``astroquery.lamda``)\n",
      "* OGLE Queries (``astroquery.ogle``)\n",
      "* Open Exoplanet Catalogue(``astroquery.open_exoplanet_catalogue``)\n",
      "* CosmoSim Queries (``astroquery.cosmosim``)"
     ]
    },
    {
     "cell_type": "heading",
     "level": 2,
     "metadata": {},
     "source": [
      "SIMBAD"
     ]
    },
    {
     "cell_type": "markdown",
     "metadata": {},
     "source": [
      "As an example, let's run a SIMBAD query:"
     ]
    },
    {
     "cell_type": "code",
     "collapsed": false,
     "input": [
      "from astropy import units as u\n",
      "from astroquery.simbad import Simbad"
     ],
     "language": "python",
     "metadata": {},
     "outputs": []
    },
    {
     "cell_type": "code",
     "collapsed": false,
     "input": [
      "r = Simbad.query_region('m42', radius=3. * u.arcmin)"
     ],
     "language": "python",
     "metadata": {},
     "outputs": []
    },
    {
     "cell_type": "code",
     "collapsed": false,
     "input": [
      "r.colnames"
     ],
     "language": "python",
     "metadata": {},
     "outputs": []
    },
    {
     "cell_type": "code",
     "collapsed": false,
     "input": [
      "r"
     ],
     "language": "python",
     "metadata": {},
     "outputs": []
    },
    {
     "cell_type": "heading",
     "level": 2,
     "metadata": {},
     "source": [
      "WISE"
     ]
    },
    {
     "cell_type": "code",
     "collapsed": false,
     "input": [
      "from astroquery.irsa import Irsa"
     ],
     "language": "python",
     "metadata": {},
     "outputs": []
    },
    {
     "cell_type": "code",
     "collapsed": false,
     "input": [
      "Irsa.query_region('m42', catalog='wise_allsky_4band_p3as_psd', radius=10*u.arcmin)"
     ],
     "language": "python",
     "metadata": {},
     "outputs": []
    },
    {
     "cell_type": "heading",
     "level": 2,
     "metadata": {},
     "source": [
      "Practical Exercise"
     ]
    },
    {
     "cell_type": "markdown",
     "metadata": {},
     "source": [
      "Go to the documentation and try out a query interface for a service that might be relevant to you!"
     ]
    }
   ],
   "metadata": {}
  }
 ]
}