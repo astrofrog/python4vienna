{
 "metadata": {
  "name": ""
 },
 "nbformat": 3,
 "nbformat_minor": 0,
 "worksheets": [
  {
   "cells": [
    {
     "cell_type": "markdown",
     "metadata": {},
     "source": [
      "Astroquery\n",
      "==========\n",
      "\n",
      "[Astroquery](http://www.astropy.org/astroquery/) is an Astropy-affiliated package that contains a collection of tools to access online Astronomical data. The main supported interfaces are:\n",
      "\n",
      "* SIMBAD Queries (``astroquery.simbad``)\n",
      "* VizieR Queries (``astroquery.vizier``)\n",
      "* IRSA Dust Extinction Service Queries (``astroquery.irsa_dust``)\n",
      "* NED Queries (``astroquery.ned``)\n",
      "* Splatalogue Queries (``astroquery.splatalogue``)\n",
      "* IRSA Queries (``astroquery.irsa``)\n",
      "* UKIDSS Queries (``astroquery.ukidss``)\n",
      "* MAGPIS Queries (``astroquery.magpis``)\n",
      "* NRAO Queries (``astroquery.nrao``)\n",
      "* Besancon Queries (``astroquery.besancon``)\n",
      "* NIST Queries (``astroquery.nist``)\n",
      "* NVAS Queries (``astroquery.nvas``)\n",
      "* GAMA Queries (``astroquery.gama``)\n",
      "\n",
      "SIMBAD\n",
      "------\n",
      "\n",
      "As an example, let's run a SIMBAD query:"
     ]
    },
    {
     "cell_type": "code",
     "collapsed": false,
     "input": [
      "from astropy import units as u\n",
      "from astroquery.simbad import Simbad"
     ],
     "language": "python",
     "metadata": {},
     "outputs": []
    },
    {
     "cell_type": "code",
     "collapsed": false,
     "input": [
      "r = Simbad.query_region('m42', radius=3. * u.arcmin)"
     ],
     "language": "python",
     "metadata": {},
     "outputs": []
    },
    {
     "cell_type": "code",
     "collapsed": false,
     "input": [
      "r.colnames"
     ],
     "language": "python",
     "metadata": {},
     "outputs": []
    },
    {
     "cell_type": "code",
     "collapsed": false,
     "input": [
      "r"
     ],
     "language": "python",
     "metadata": {},
     "outputs": []
    },
    {
     "cell_type": "markdown",
     "metadata": {},
     "source": [
      "WISE\n",
      "----"
     ]
    },
    {
     "cell_type": "code",
     "collapsed": false,
     "input": [
      "from astroquery.irsa import Irsa"
     ],
     "language": "python",
     "metadata": {},
     "outputs": []
    },
    {
     "cell_type": "code",
     "collapsed": false,
     "input": [
      "Irsa.query_region('m42', catalog='wise_allsky_4band_p3as_psd', radius=10*u.arcmin)"
     ],
     "language": "python",
     "metadata": {},
     "outputs": []
    }
   ],
   "metadata": {}
  }
 ]
}