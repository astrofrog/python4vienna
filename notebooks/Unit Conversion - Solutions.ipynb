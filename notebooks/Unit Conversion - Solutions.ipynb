{
 "metadata": {
  "name": ""
 },
 "nbformat": 3,
 "nbformat_minor": 0,
 "worksheets": [
  {
   "cells": [
    {
     "cell_type": "markdown",
     "metadata": {},
     "source": [
      "Unit Conversion - Solutions\n",
      "===========================\n",
      "\n",
      "Level 1\n",
      "-------\n",
      "\n",
      "What is 1 barn megaparsecs in teaspoons?"
     ]
    },
    {
     "cell_type": "code",
     "collapsed": false,
     "input": [
      "from astropy import units as u\n",
      "from astropy.units import imperial"
     ],
     "language": "python",
     "metadata": {},
     "outputs": [],
     "prompt_number": 1
    },
    {
     "cell_type": "code",
     "collapsed": false,
     "input": [
      "(1. * u.barn * u.Mpc).to(imperial.tsp) "
     ],
     "language": "python",
     "metadata": {},
     "outputs": [
      {
       "latex": [
        "$0.626035 \\; \\mathrm{tsp}$"
       ],
       "output_type": "pyout",
       "prompt_number": 2,
       "text": [
        "<Quantity 0.6260350298930571 tsp>"
       ]
      }
     ],
     "prompt_number": 2
    },
    {
     "cell_type": "markdown",
     "metadata": {},
     "source": [
      "Level 2\n",
      "-------\n",
      "\n",
      "What is 3 nm^2 Mpc / m^3 in dimensionless units?"
     ]
    },
    {
     "cell_type": "code",
     "collapsed": false,
     "input": [
      "(3. * u.nm**2 * u.Mpc / u.m**3).decompose()"
     ],
     "language": "python",
     "metadata": {},
     "outputs": [
      {
       "latex": [
        "$92570.3 \\; \\mathrm{}$"
       ],
       "output_type": "pyout",
       "prompt_number": 3,
       "text": [
        "<Quantity 92570.32744401575 >"
       ]
      }
     ],
     "prompt_number": 3
    },
    {
     "cell_type": "markdown",
     "metadata": {},
     "source": [
      "or to just get the numerical value:"
     ]
    },
    {
     "cell_type": "code",
     "collapsed": false,
     "input": [
      "(3. * u.nm**2 * u.Mpc / u.m**3).decompose().value"
     ],
     "language": "python",
     "metadata": {},
     "outputs": [
      {
       "output_type": "pyout",
       "prompt_number": 4,
       "text": [
        "92570.32744401575"
       ]
      }
     ],
     "prompt_number": 4
    },
    {
     "cell_type": "markdown",
     "metadata": {},
     "source": [
      "Level 3\n",
      "-------\n",
      "\n",
      "Try and use equivalencies to find the doppler shifted wavelength of a line at 454.4nm if the object is moving at a velocity of 510km/s away from the observer."
     ]
    },
    {
     "cell_type": "code",
     "collapsed": false,
     "input": [
      "(510. * u.km / u.s).to(u.nm, equivalencies=u.doppler_optical(454.4 * u.nm))"
     ],
     "language": "python",
     "metadata": {},
     "outputs": [
      {
       "latex": [
        "$455.173 \\; \\mathrm{nm}$"
       ],
       "output_type": "pyout",
       "prompt_number": 5,
       "text": [
        "<Quantity 455.173014776776 nm>"
       ]
      }
     ],
     "prompt_number": 5
    }
   ],
   "metadata": {}
  }
 ]
}