{
 "metadata": {
  "name": ""
 },
 "nbformat": 3,
 "nbformat_minor": 0,
 "worksheets": [
  {
   "cells": [
    {
     "cell_type": "markdown",
     "metadata": {},
     "source": [
      "Unit Conversion\n",
      "===============\n",
      "\n",
      "Documentation\n",
      "-------------\n",
      "\n",
      "For more information about the features presented below, you can read the\n",
      "[astropy.units](http://docs.astropy.org/en/stable/units/index.html) docs.\n",
      "\n",
      "Representing units and quantities\n",
      "----------------------------------\n",
      "\n",
      "Astropy includes a powerful framework for units that allows users to attach\n",
      "units to scalars and arrays, and manipulate/combine these, keeping track of\n",
      "the units.\n",
      "\n",
      "Since we may want to use a number of units in expressions, it is easiest and\n",
      "most concise to import the units module with:"
     ]
    },
    {
     "cell_type": "code",
     "collapsed": false,
     "input": [
      "from astropy import units as u"
     ],
     "language": "python",
     "metadata": {},
     "outputs": [],
     "prompt_number": 1
    },
    {
     "cell_type": "markdown",
     "metadata": {},
     "source": [
      "though note that this will conflict with any variable called ``u``.\n",
      "\n",
      "Units can then be accessed with:"
     ]
    },
    {
     "cell_type": "code",
     "collapsed": false,
     "input": [
      "u.m"
     ],
     "language": "python",
     "metadata": {},
     "outputs": [
      {
       "latex": [
        "$\\mathrm{m}$"
       ],
       "output_type": "pyout",
       "prompt_number": 2,
       "text": [
        "Unit(\"m\")"
       ]
      }
     ],
     "prompt_number": 2
    },
    {
     "cell_type": "code",
     "collapsed": false,
     "input": [
      "u.pc"
     ],
     "language": "python",
     "metadata": {},
     "outputs": [
      {
       "latex": [
        "$\\mathrm{pc}$"
       ],
       "output_type": "pyout",
       "prompt_number": 3,
       "text": [
        "Unit(\"pc\")"
       ]
      }
     ],
     "prompt_number": 3
    },
    {
     "cell_type": "code",
     "collapsed": false,
     "input": [
      "u.s"
     ],
     "language": "python",
     "metadata": {},
     "outputs": [
      {
       "latex": [
        "$\\mathrm{s}$"
       ],
       "output_type": "pyout",
       "prompt_number": 4,
       "text": [
        "Unit(\"s\")"
       ]
      }
     ],
     "prompt_number": 4
    },
    {
     "cell_type": "code",
     "collapsed": false,
     "input": [
      "u.kg"
     ],
     "language": "python",
     "metadata": {},
     "outputs": [
      {
       "latex": [
        "$\\mathrm{kg}$"
       ],
       "output_type": "pyout",
       "prompt_number": 5,
       "text": [
        "Unit(\"kg\")"
       ]
      }
     ],
     "prompt_number": 5
    },
    {
     "cell_type": "markdown",
     "metadata": {},
     "source": [
      "We can create composite units:"
     ]
    },
    {
     "cell_type": "code",
     "collapsed": false,
     "input": [
      "u.m / u.kg / u.s**2"
     ],
     "language": "python",
     "metadata": {},
     "outputs": [
      {
       "latex": [
        "$\\mathrm{\\frac{m}{kg\\,s^{2}}}$"
       ],
       "output_type": "pyout",
       "prompt_number": 6,
       "text": [
        "Unit(\"m / (kg s2)\")"
       ]
      }
     ],
     "prompt_number": 6
    },
    {
     "cell_type": "code",
     "collapsed": false,
     "input": [
      "repr(u.m / u.kg / u.s**2)"
     ],
     "language": "python",
     "metadata": {},
     "outputs": [
      {
       "output_type": "pyout",
       "prompt_number": 7,
       "text": [
        "'Unit(\"m / (kg s2)\")'"
       ]
      }
     ],
     "prompt_number": 7
    },
    {
     "cell_type": "markdown",
     "metadata": {},
     "source": [
      "The most useful feature about the units is the ability to attach them to\n",
      "scalars or arrays, creating ``Quantity`` objects:"
     ]
    },
    {
     "cell_type": "code",
     "collapsed": false,
     "input": [
      "3. * u.m"
     ],
     "language": "python",
     "metadata": {},
     "outputs": [
      {
       "latex": [
        "$3 \\; \\mathrm{m}$"
       ],
       "output_type": "pyout",
       "prompt_number": 8,
       "text": [
        "<Quantity 3.0 m>"
       ]
      }
     ],
     "prompt_number": 8
    },
    {
     "cell_type": "code",
     "collapsed": false,
     "input": [
      "import numpy as np"
     ],
     "language": "python",
     "metadata": {},
     "outputs": [],
     "prompt_number": 9
    },
    {
     "cell_type": "code",
     "collapsed": false,
     "input": [
      "np.array([1.2, 2.2, 1.7]) * u.pc / u.year"
     ],
     "language": "python",
     "metadata": {},
     "outputs": [
      {
       "output_type": "pyout",
       "prompt_number": 10,
       "text": [
        "<Quantity [ 1.2, 2.2, 1.7] pc / yr>"
       ]
      }
     ],
     "prompt_number": 10
    },
    {
     "cell_type": "markdown",
     "metadata": {},
     "source": [
      "Combining and converting units\n",
      "------------------------------\n",
      "\n",
      "Quantities can then be combined:"
     ]
    },
    {
     "cell_type": "code",
     "collapsed": false,
     "input": [
      "q1 = 3. * u.m"
     ],
     "language": "python",
     "metadata": {},
     "outputs": [],
     "prompt_number": 11
    },
    {
     "cell_type": "code",
     "collapsed": false,
     "input": [
      "q2 = 5. * u.cm / u.s / u.g**2"
     ],
     "language": "python",
     "metadata": {},
     "outputs": [],
     "prompt_number": 12
    },
    {
     "cell_type": "code",
     "collapsed": false,
     "input": [
      "q1 * q2"
     ],
     "language": "python",
     "metadata": {},
     "outputs": [
      {
       "latex": [
        "$15 \\; \\mathrm{\\frac{cm\\,m}{s\\,g^{2}}}$"
       ],
       "output_type": "pyout",
       "prompt_number": 13,
       "text": [
        "<Quantity 15.0 cm m / (g2 s)>"
       ]
      }
     ],
     "prompt_number": 13
    },
    {
     "cell_type": "markdown",
     "metadata": {},
     "source": [
      "and converted to different units:"
     ]
    },
    {
     "cell_type": "code",
     "collapsed": false,
     "input": [
      "(q1 * q2).to(u.m**2 / u.kg**2 / u.s)"
     ],
     "language": "python",
     "metadata": {},
     "outputs": [
      {
       "latex": [
        "$150000 \\; \\mathrm{\\frac{m^{2}}{s\\,kg^{2}}}$"
       ],
       "output_type": "pyout",
       "prompt_number": 14,
       "text": [
        "<Quantity 150000.0 m2 / (kg2 s)>"
       ]
      }
     ],
     "prompt_number": 14
    },
    {
     "cell_type": "markdown",
     "metadata": {},
     "source": [
      "The units and value of a quantity can be accessed separately via the ``value`` and ``unit`` attributes:"
     ]
    },
    {
     "cell_type": "code",
     "collapsed": false,
     "input": [
      "q = 5. * u.pc"
     ],
     "language": "python",
     "metadata": {},
     "outputs": [],
     "prompt_number": 15
    },
    {
     "cell_type": "code",
     "collapsed": false,
     "input": [
      "q.value"
     ],
     "language": "python",
     "metadata": {},
     "outputs": [
      {
       "output_type": "pyout",
       "prompt_number": 16,
       "text": [
        "5.0"
       ]
      }
     ],
     "prompt_number": 16
    },
    {
     "cell_type": "code",
     "collapsed": false,
     "input": [
      "q.unit"
     ],
     "language": "python",
     "metadata": {},
     "outputs": [
      {
       "latex": [
        "$\\mathrm{pc}$"
       ],
       "output_type": "pyout",
       "prompt_number": 17,
       "text": [
        "Unit(\"pc\")"
       ]
      }
     ],
     "prompt_number": 17
    },
    {
     "cell_type": "markdown",
     "metadata": {},
     "source": [
      "Advanced features\n",
      "-----------------\n",
      "\n",
      "The units of a quantity can be decomposed into a set of base units using the\n",
      "``decompose()`` method. By default, units will be decomposed to S.I.:"
     ]
    },
    {
     "cell_type": "code",
     "collapsed": false,
     "input": [
      "(3. * u.cm * u.pc / u.g / u.year**2).decompose()"
     ],
     "language": "python",
     "metadata": {},
     "outputs": [
      {
       "latex": [
        "$929.531 \\; \\mathrm{\\frac{m^{2}}{kg\\,s^{2}}}$"
       ],
       "output_type": "pyout",
       "prompt_number": 18,
       "text": [
        "<Quantity 929.5309735275766 m2 / (kg s2)>"
       ]
      }
     ],
     "prompt_number": 18
    },
    {
     "cell_type": "markdown",
     "metadata": {},
     "source": [
      "To decompose into c.g.s. units, one can do:"
     ]
    },
    {
     "cell_type": "code",
     "collapsed": false,
     "input": [
      "(3. * u.cm * u.pc / u.g / u.year**2).decompose(u.cgs.bases)"
     ],
     "language": "python",
     "metadata": {},
     "outputs": [
      {
       "latex": [
        "$9295.31 \\; \\mathrm{\\frac{cm^{2}}{g\\,s^{2}}}$"
       ],
       "output_type": "pyout",
       "prompt_number": 19,
       "text": [
        "<Quantity 9295.309735275769 cm2 / (g s2)>"
       ]
      }
     ],
     "prompt_number": 19
    },
    {
     "cell_type": "markdown",
     "metadata": {},
     "source": [
      "Using physical constants\n",
      "------------------------\n",
      "\n",
      "The [astropy.constants](http://docs.astropy.org/en/v0.2.1/constants/index.html) module contains\n",
      "physical constants relevant for Astronomy, and these are defined with units\n",
      "attached to them using the ``astropy.units`` framework.\n",
      "\n",
      "If we want to compute\n",
      "the Gravitational force felt by a 100. * u.kg space probe by the Sun, at a\n",
      "distance of 3.2au, we can do:"
     ]
    },
    {
     "cell_type": "code",
     "collapsed": false,
     "input": [
      "from astropy.constants import G"
     ],
     "language": "python",
     "metadata": {},
     "outputs": [],
     "prompt_number": 20
    },
    {
     "cell_type": "code",
     "collapsed": false,
     "input": [
      "F = (G * 1. * u.M_sun * 100. * u.kg) / (3.2 * u.au)**2"
     ],
     "language": "python",
     "metadata": {},
     "outputs": [],
     "prompt_number": 21
    },
    {
     "cell_type": "code",
     "collapsed": false,
     "input": [
      "F"
     ],
     "language": "python",
     "metadata": {},
     "outputs": [
      {
       "latex": [
        "$6.51742\\times 10^{-10} \\; \\mathrm{\\frac{m^{3}\\,M_{\\odot}}{AU^{2}\\,s^{2}}}$"
       ],
       "output_type": "pyout",
       "prompt_number": 22,
       "text": [
        "<Quantity 6.517421874999999e-10 m3 solMass / (AU2 s2)>"
       ]
      }
     ],
     "prompt_number": 22
    },
    {
     "cell_type": "code",
     "collapsed": false,
     "input": [
      "F.to(u.N)"
     ],
     "language": "python",
     "metadata": {},
     "outputs": [
      {
       "latex": [
        "$0.0579271 \\; \\mathrm{N}$"
       ],
       "output_type": "pyout",
       "prompt_number": 23,
       "text": [
        "<Quantity 0.05792707869188191 N>"
       ]
      }
     ],
     "prompt_number": 23
    },
    {
     "cell_type": "markdown",
     "metadata": {},
     "source": [
      "The full list of available physical constants is shown [here](http://docs.astropy.org/en/stable/constants/index.html#module-astropy.constants) (and additions are welcome!)."
     ]
    },
    {
     "cell_type": "markdown",
     "metadata": {},
     "source": [
      "Equivalencies\n",
      "-------------\n",
      "\n",
      "Equivalencies can be used to convert quantities that are not strictly the same physical type:"
     ]
    },
    {
     "cell_type": "code",
     "collapsed": false,
     "input": [
      "(450. * u.nm).to(u.GHz)"
     ],
     "language": "python",
     "metadata": {},
     "outputs": [
      {
       "output_type": "stream",
       "stream": "stderr",
       "text": [
        "ERROR:astropy:UnitsError: 'nm' (length) and 'GHz' (frequency) are not convertible\n"
       ]
      },
      {
       "ename": "UnitsError",
       "evalue": "'nm' (length) and 'GHz' (frequency) are not convertible",
       "output_type": "pyerr",
       "traceback": [
        "\u001b[0;31m---------------------------------------------------------------------------\u001b[0m\n\u001b[0;31mUnitsError\u001b[0m                                Traceback (most recent call last)",
        "\u001b[0;32m<ipython-input-24-e4fbcb033257>\u001b[0m in \u001b[0;36m<module>\u001b[0;34m()\u001b[0m\n\u001b[0;32m----> 1\u001b[0;31m \u001b[0;34m(\u001b[0m\u001b[0;36m450.\u001b[0m \u001b[0;34m*\u001b[0m \u001b[0mu\u001b[0m\u001b[0;34m.\u001b[0m\u001b[0mnm\u001b[0m\u001b[0;34m)\u001b[0m\u001b[0;34m.\u001b[0m\u001b[0mto\u001b[0m\u001b[0;34m(\u001b[0m\u001b[0mu\u001b[0m\u001b[0;34m.\u001b[0m\u001b[0mGHz\u001b[0m\u001b[0;34m)\u001b[0m\u001b[0;34m\u001b[0m\u001b[0m\n\u001b[0m",
        "\u001b[0;32m/Users/tom/Library/Python/2.7/lib/python/site-packages/astropy/units/quantity.pyc\u001b[0m in \u001b[0;36mto\u001b[0;34m(self, unit, equivalencies)\u001b[0m\n\u001b[1;32m    442\u001b[0m         \u001b[0;32mif\u001b[0m \u001b[0mequivalencies\u001b[0m \u001b[0;34m==\u001b[0m \u001b[0;34m[\u001b[0m\u001b[0;34m]\u001b[0m\u001b[0;34m:\u001b[0m\u001b[0;34m\u001b[0m\u001b[0m\n\u001b[1;32m    443\u001b[0m             \u001b[0mequivalencies\u001b[0m \u001b[0;34m=\u001b[0m \u001b[0mself\u001b[0m\u001b[0;34m.\u001b[0m\u001b[0m_equivalencies\u001b[0m\u001b[0;34m\u001b[0m\u001b[0m\n\u001b[0;32m--> 444\u001b[0;31m         \u001b[0mnew_val\u001b[0m \u001b[0;34m=\u001b[0m \u001b[0mself\u001b[0m\u001b[0;34m.\u001b[0m\u001b[0munit\u001b[0m\u001b[0;34m.\u001b[0m\u001b[0mto\u001b[0m\u001b[0;34m(\u001b[0m\u001b[0munit\u001b[0m\u001b[0;34m,\u001b[0m \u001b[0mself\u001b[0m\u001b[0;34m.\u001b[0m\u001b[0mvalue\u001b[0m\u001b[0;34m,\u001b[0m \u001b[0mequivalencies\u001b[0m\u001b[0;34m=\u001b[0m\u001b[0mequivalencies\u001b[0m\u001b[0;34m)\u001b[0m\u001b[0;34m\u001b[0m\u001b[0m\n\u001b[0m\u001b[1;32m    445\u001b[0m         \u001b[0;32mreturn\u001b[0m \u001b[0mself\u001b[0m\u001b[0;34m.\u001b[0m\u001b[0m__quantity_instance__\u001b[0m\u001b[0;34m(\u001b[0m\u001b[0mnew_val\u001b[0m\u001b[0;34m,\u001b[0m \u001b[0munit\u001b[0m\u001b[0;34m,\u001b[0m \u001b[0mcopy\u001b[0m\u001b[0;34m=\u001b[0m\u001b[0mFalse\u001b[0m\u001b[0;34m)\u001b[0m\u001b[0;34m\u001b[0m\u001b[0m\n\u001b[1;32m    446\u001b[0m \u001b[0;34m\u001b[0m\u001b[0m\n",
        "\u001b[0;32m/Users/tom/Library/Python/2.7/lib/python/site-packages/astropy/units/core.pyc\u001b[0m in \u001b[0;36mto\u001b[0;34m(self, other, value, equivalencies)\u001b[0m\n\u001b[1;32m    920\u001b[0m \u001b[0;34m\u001b[0m\u001b[0m\n\u001b[1;32m    921\u001b[0m         \u001b[0mother\u001b[0m \u001b[0;34m=\u001b[0m \u001b[0mUnit\u001b[0m\u001b[0;34m(\u001b[0m\u001b[0mother\u001b[0m\u001b[0;34m)\u001b[0m\u001b[0;34m\u001b[0m\u001b[0m\n\u001b[0;32m--> 922\u001b[0;31m         \u001b[0;32mreturn\u001b[0m \u001b[0mself\u001b[0m\u001b[0;34m.\u001b[0m\u001b[0mget_converter\u001b[0m\u001b[0;34m(\u001b[0m\u001b[0mother\u001b[0m\u001b[0;34m,\u001b[0m \u001b[0mequivalencies\u001b[0m\u001b[0;34m=\u001b[0m\u001b[0mequivalencies\u001b[0m\u001b[0;34m)\u001b[0m\u001b[0;34m(\u001b[0m\u001b[0mvalue\u001b[0m\u001b[0;34m)\u001b[0m\u001b[0;34m\u001b[0m\u001b[0m\n\u001b[0m\u001b[1;32m    923\u001b[0m \u001b[0;34m\u001b[0m\u001b[0m\n\u001b[1;32m    924\u001b[0m     \u001b[0;32mdef\u001b[0m \u001b[0min_units\u001b[0m\u001b[0;34m(\u001b[0m\u001b[0mself\u001b[0m\u001b[0;34m,\u001b[0m \u001b[0mother\u001b[0m\u001b[0;34m,\u001b[0m \u001b[0mvalue\u001b[0m\u001b[0;34m=\u001b[0m\u001b[0;36m1.0\u001b[0m\u001b[0;34m,\u001b[0m \u001b[0mequivalencies\u001b[0m\u001b[0;34m=\u001b[0m\u001b[0;34m[\u001b[0m\u001b[0;34m]\u001b[0m\u001b[0;34m)\u001b[0m\u001b[0;34m:\u001b[0m\u001b[0;34m\u001b[0m\u001b[0m\n",
        "\u001b[0;32m/Users/tom/Library/Python/2.7/lib/python/site-packages/astropy/units/core.pyc\u001b[0m in \u001b[0;36mget_converter\u001b[0;34m(self, other, equivalencies)\u001b[0m\n\u001b[1;32m    880\u001b[0m         \u001b[0;32mexcept\u001b[0m \u001b[0mUnitsError\u001b[0m\u001b[0;34m:\u001b[0m\u001b[0;34m\u001b[0m\u001b[0m\n\u001b[1;32m    881\u001b[0m             return self._apply_equivalences(\n\u001b[0;32m--> 882\u001b[0;31m                 self, other, equivalencies)\n\u001b[0m\u001b[1;32m    883\u001b[0m         \u001b[0;32mreturn\u001b[0m \u001b[0;32mlambda\u001b[0m \u001b[0mval\u001b[0m\u001b[0;34m:\u001b[0m \u001b[0mscale\u001b[0m \u001b[0;34m*\u001b[0m \u001b[0m_condition_arg\u001b[0m\u001b[0;34m(\u001b[0m\u001b[0mval\u001b[0m\u001b[0;34m)\u001b[0m\u001b[0;34m\u001b[0m\u001b[0m\n\u001b[1;32m    884\u001b[0m \u001b[0;34m\u001b[0m\u001b[0m\n",
        "\u001b[0;32m/Users/tom/Library/Python/2.7/lib/python/site-packages/astropy/units/core.pyc\u001b[0m in \u001b[0;36m_apply_equivalences\u001b[0;34m(self, unit, other, equivalencies)\u001b[0m\n\u001b[1;32m    838\u001b[0m         raise UnitsError(\n\u001b[1;32m    839\u001b[0m             \"{0} and {1} are not convertible\".format(\n\u001b[0;32m--> 840\u001b[0;31m                 unit_str, other_str))\n\u001b[0m\u001b[1;32m    841\u001b[0m \u001b[0;34m\u001b[0m\u001b[0m\n\u001b[1;32m    842\u001b[0m     \u001b[0;32mdef\u001b[0m \u001b[0mget_converter\u001b[0m\u001b[0;34m(\u001b[0m\u001b[0mself\u001b[0m\u001b[0;34m,\u001b[0m \u001b[0mother\u001b[0m\u001b[0;34m,\u001b[0m \u001b[0mequivalencies\u001b[0m\u001b[0;34m=\u001b[0m\u001b[0;34m[\u001b[0m\u001b[0;34m]\u001b[0m\u001b[0;34m)\u001b[0m\u001b[0;34m:\u001b[0m\u001b[0;34m\u001b[0m\u001b[0m\n",
        "\u001b[0;31mUnitsError\u001b[0m: 'nm' (length) and 'GHz' (frequency) are not convertible"
       ]
      },
      {
       "output_type": "stream",
       "stream": "stdout",
       "text": [
        "ERROR: UnitsError: 'nm' (length) and 'GHz' (frequency) are not convertible [astropy.units.core]\n"
       ]
      }
     ],
     "prompt_number": 24
    },
    {
     "cell_type": "code",
     "collapsed": false,
     "input": [
      "(450. * u.nm).to(u.GHz, equivalencies=u.spectral())"
     ],
     "language": "python",
     "metadata": {},
     "outputs": [
      {
       "latex": [
        "$666205 \\; \\mathrm{GHz}$"
       ],
       "output_type": "pyout",
       "prompt_number": 25,
       "text": [
        "<Quantity 666205.4622222221 GHz>"
       ]
      }
     ],
     "prompt_number": 25
    },
    {
     "cell_type": "code",
     "collapsed": false,
     "input": [
      "(450. * u.eV).to(u.nm, equivalencies=u.spectral())"
     ],
     "language": "python",
     "metadata": {},
     "outputs": [
      {
       "latex": [
        "$2.7552 \\; \\mathrm{nm}$"
       ],
       "output_type": "pyout",
       "prompt_number": 26,
       "text": [
        "<Quantity 2.7552042871120452 nm>"
       ]
      }
     ],
     "prompt_number": 26
    },
    {
     "cell_type": "code",
     "collapsed": false,
     "input": [
      "q = (1e-18 * u.erg / u.cm**2 / u.s / u.AA)\n",
      "q.to(u.Jy, equivalencies=u.spectral_density(u.mm, 1))"
     ],
     "language": "python",
     "metadata": {},
     "outputs": [
      {
       "latex": [
        "$3.33564 \\; \\mathrm{Jy}$"
       ],
       "output_type": "pyout",
       "prompt_number": 27,
       "text": [
        "<Quantity 3.3356409519815196 Jy>"
       ]
      }
     ],
     "prompt_number": 27
    },
    {
     "cell_type": "markdown",
     "metadata": {},
     "source": [
      "New in 0.3!\n",
      "-----------\n",
      "\n",
      "Some of the [Numpy](http://www.numpy.org) functions can now understand Quantity objects:"
     ]
    },
    {
     "cell_type": "code",
     "collapsed": false,
     "input": [
      "np.sin(30 * u.degree)"
     ],
     "language": "python",
     "metadata": {},
     "outputs": [
      {
       "latex": [
        "$0.5 \\; \\mathrm{}$"
       ],
       "output_type": "pyout",
       "prompt_number": 28,
       "text": [
        "<Quantity 0.49999999999999994 >"
       ]
      }
     ],
     "prompt_number": 28
    },
    {
     "cell_type": "code",
     "collapsed": false,
     "input": [
      "np.exp(3 * u.m/ (3 * u.km))"
     ],
     "language": "python",
     "metadata": {},
     "outputs": [
      {
       "latex": [
        "$1.001 \\; \\mathrm{}$"
       ],
       "output_type": "pyout",
       "prompt_number": 29,
       "text": [
        "<Quantity 1.0010005001667084 >"
       ]
      }
     ],
     "prompt_number": 29
    },
    {
     "cell_type": "markdown",
     "metadata": {},
     "source": [
      "Practical Exercises\n",
      "-------------------\n",
      "\n",
      "### Level 1\n",
      "\n",
      "What is 1 barn megaparsecs in teaspoons? Note that teaspoons are not part of the standard set of units, but it can be found in:"
     ]
    },
    {
     "cell_type": "code",
     "collapsed": false,
     "input": [
      "from astropy.units import imperial\n",
      "imperial.tsp  "
     ],
     "language": "python",
     "metadata": {},
     "outputs": [
      {
       "latex": [
        "$\\mathrm{tsp}$"
       ],
       "output_type": "pyout",
       "prompt_number": 30,
       "text": [
        "Unit(\"tsp\")"
       ]
      }
     ],
     "prompt_number": 30
    },
    {
     "cell_type": "markdown",
     "metadata": {},
     "source": [
      "### Level 2\n",
      "\n",
      "What is 3 nm^2 Mpc / m^3 in dimensionless units?\n",
      "\n",
      "### Level 3 (Astropy 0.3 only)\n",
      "\n",
      "Try and use equivalencies to find the doppler shifted wavelength of a line at 454.4nm if the object is moving at a velocity of 510km/s. You will need to read up more about the available equivalencies [here](http://docs.astropy.org/en/stable/units/equivalencies.html)"
     ]
    }
   ],
   "metadata": {}
  }
 ]
}