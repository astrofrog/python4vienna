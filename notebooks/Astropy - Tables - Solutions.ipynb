{
 "metadata": {
  "name": ""
 },
 "nbformat": 3,
 "nbformat_minor": 0,
 "worksheets": [
  {
   "cells": [
    {
     "cell_type": "heading",
     "level": 1,
     "metadata": {},
     "source": [
      "Astropy: Tables"
     ]
    },
    {
     "cell_type": "heading",
     "level": 2,
     "metadata": {},
     "source": [
      "Level 1"
     ]
    },
    {
     "cell_type": "markdown",
     "metadata": {},
     "source": [
      "Try and find a way to make a table of the ROSAT point source catalog that\n",
      "contains only the RA, Dec, and count rate."
     ]
    },
    {
     "cell_type": "code",
     "collapsed": false,
     "input": [
      "from astropy.table import Table"
     ],
     "language": "python",
     "metadata": {},
     "outputs": []
    },
    {
     "cell_type": "code",
     "collapsed": false,
     "input": [
      "t = Table.read('data/rosat.vot')"
     ],
     "language": "python",
     "metadata": {},
     "outputs": []
    },
    {
     "cell_type": "code",
     "collapsed": false,
     "input": [
      "t.keep_columns(['RAJ2000', 'DEJ2000', 'Count'])\n",
      "t"
     ],
     "language": "python",
     "metadata": {},
     "outputs": []
    },
    {
     "cell_type": "markdown",
     "metadata": {},
     "source": [
      "Note that you can also do this with:"
     ]
    },
    {
     "cell_type": "code",
     "collapsed": false,
     "input": [
      "t_new = t['RAJ2000', 'DEJ2000', 'Count']\n",
      "t_new"
     ],
     "language": "python",
     "metadata": {},
     "outputs": []
    },
    {
     "cell_type": "heading",
     "level": 2,
     "metadata": {},
     "source": [
      "Level 2"
     ]
    },
    {
     "cell_type": "markdown",
     "metadata": {},
     "source": [
      "Make an all-sky equatorial plot of the ROSAT sources, with all sources\n",
      "shown in black, and only the sources with a count rate larger than 2.\n",
      "shown in red."
     ]
    },
    {
     "cell_type": "code",
     "collapsed": false,
     "input": [
      "from astropy.table import Table\n",
      "from matplotlib import pyplot as plt"
     ],
     "language": "python",
     "metadata": {},
     "outputs": []
    },
    {
     "cell_type": "code",
     "collapsed": false,
     "input": [
      "t = Table.read('data/rosat.vot')"
     ],
     "language": "python",
     "metadata": {},
     "outputs": []
    },
    {
     "cell_type": "code",
     "collapsed": false,
     "input": [
      "t_bright = t[t['Count'] > 2.]"
     ],
     "language": "python",
     "metadata": {},
     "outputs": []
    },
    {
     "cell_type": "code",
     "collapsed": false,
     "input": [
      "fig = plt.figure()\n",
      "ax = fig.add_subplot(1,1,1, aspect='equal')\n",
      "ax.scatter(t['RAJ2000'], t['DEJ2000'], s=1, color='black')\n",
      "ax.scatter(t_bright['RAJ2000'], t_bright['DEJ2000'], color='red')\n",
      "ax.set_xlim(360., 0.)\n",
      "ax.set_ylim(-90., 90.)\n",
      "ax.set_xlabel(\"Right Ascension\")\n",
      "ax.set_ylabel(\"Declination\")"
     ],
     "language": "python",
     "metadata": {},
     "outputs": []
    },
    {
     "cell_type": "heading",
     "level": 2,
     "metadata": {},
     "source": [
      "Level 3"
     ]
    },
    {
     "cell_type": "markdown",
     "metadata": {},
     "source": [
      "Try and write out the ROSAT catalog into a format that you can read into\n",
      "another software package."
     ]
    },
    {
     "cell_type": "code",
     "collapsed": false,
     "input": [
      "from astropy.table import Table"
     ],
     "language": "python",
     "metadata": {},
     "outputs": []
    },
    {
     "cell_type": "code",
     "collapsed": false,
     "input": [
      "t = Table.read('data/rosat.vot', format='votable')"
     ],
     "language": "python",
     "metadata": {},
     "outputs": []
    },
    {
     "cell_type": "code",
     "collapsed": false,
     "input": [
      "t.write('rosat2.csv', format='ascii', delimiter=',')"
     ],
     "language": "python",
     "metadata": {},
     "outputs": []
    }
   ],
   "metadata": {}
  }
 ]
}