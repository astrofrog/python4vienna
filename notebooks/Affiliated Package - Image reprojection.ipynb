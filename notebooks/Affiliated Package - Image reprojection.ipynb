{
 "metadata": {
  "name": "",
  "signature": "sha256:083de7e2ecabb177a12d73202d9801107f67aa8d58c79ebd82a4b7ef27fc679e"
 },
 "nbformat": 3,
 "nbformat_minor": 0,
 "worksheets": [
  {
   "cells": [
    {
     "cell_type": "heading",
     "level": 1,
     "metadata": {},
     "source": [
      "Affiliated package: reproject"
     ]
    },
    {
     "cell_type": "markdown",
     "metadata": {},
     "source": [
      "The ``reproject`` package can be found [here](http://reproject.readthedocs.org). To install it:\n",
      "\n",
      "    pip install reproject"
     ]
    },
    {
     "cell_type": "markdown",
     "metadata": {},
     "source": [
      "The reproject package implements image reprojection (resampling) methods for astronomical images and more generally n-dimensional data. These assume that the WCS information contained in the data are correct. This package does not do image registration, which is the process of aligning images where one or more images may have incorrect or missing WCS.\n",
      "\n"
     ]
    },
    {
     "cell_type": "code",
     "collapsed": false,
     "input": [
      "from astropy.io import fits\n",
      "from astropy.utils.data import get_pkg_data_filename"
     ],
     "language": "python",
     "metadata": {},
     "outputs": []
    },
    {
     "cell_type": "code",
     "collapsed": false,
     "input": [
      "hdu1 = fits.open(get_pkg_data_filename('galactic_center/gc_2mass_k.fits'))[0]\n",
      "hdu2 = fits.open(get_pkg_data_filename('galactic_center/gc_msx_e.fits'))[0]"
     ],
     "language": "python",
     "metadata": {},
     "outputs": []
    },
    {
     "cell_type": "code",
     "collapsed": false,
     "input": [
      "from astropy.wcs import WCS\n",
      "%matplotlib inline\n",
      "import matplotlib.pyplot as plt\n",
      "\n",
      "fig = plt.figure(figsize=(8,6))\n",
      "\n",
      "ax1 = fig.add_subplot(1,2,1, projection=WCS(hdu1.header))\n",
      "ax1.imshow(hdu1.data, origin='lower',\n",
      "           vmin=-100., vmax=2000.,\n",
      "           cmap=plt.cm.gist_heat)\n",
      "\n",
      "ax1.coords.grid(color='white')\n",
      "ax1.coords['ra'].set_axislabel('Right Ascension')\n",
      "ax1.coords['dec'].set_axislabel('Declination')\n",
      "ax1.set_title('2MASS K-band')\n",
      "\n",
      "ax2 = fig.add_subplot(1,2,2, projection=WCS(hdu2.header))\n",
      "ax2.imshow(hdu2.data, origin='lower',\n",
      "           vmin=-2.e-4, vmax=5.e-4,         \n",
      "           cmap=plt.cm.gist_heat)\n",
      "\n",
      "ax2.coords.grid(color='white')\n",
      "ax2.coords['glon'].set_axislabel('Galactic Longitude')\n",
      "ax2.coords['glat'].set_axislabel('Galactic Latitude')\n",
      "ax2.coords['glat'].set_axislabel_position('r')\n",
      "ax2.coords['glat'].set_ticklabel_position('r')\n",
      "ax2.set_title('MSX band E')"
     ],
     "language": "python",
     "metadata": {},
     "outputs": []
    },
    {
     "cell_type": "markdown",
     "metadata": {},
     "source": [
      "We now reproject the MSX image to be in the same projection as the 2MASS image:"
     ]
    },
    {
     "cell_type": "code",
     "collapsed": false,
     "input": [
      "from reproject import reproject_interp\n",
      "array, footprint = reproject_interp(hdu2, hdu1.header)"
     ],
     "language": "python",
     "metadata": {},
     "outputs": []
    },
    {
     "cell_type": "markdown",
     "metadata": {},
     "source": [
      "The reproject_interp() function above returns the reprojected array as well as an array that provides information on the footprint of the first image in the new reprojected image plane (essentially which pixels in the new image had a corresponding pixel in the old image). We can now visualize the reprojected data and footprint:"
     ]
    },
    {
     "cell_type": "code",
     "collapsed": false,
     "input": [
      "fig = plt.figure(figsize=(8,6))\n",
      "\n",
      "ax1 = fig.add_subplot(1,2,1, projection=WCS(hdu1.header))\n",
      "ax1.imshow(array, origin='lower',\n",
      "           vmin=-2.e-4, vmax=5.e-4,\n",
      "           cmap=plt.cm.gist_heat)\n",
      "ax1.coords.grid(color='white')\n",
      "ax1.coords['ra'].set_axislabel('Right Ascension')\n",
      "ax1.coords['dec'].set_axislabel('Declination')\n",
      "ax1.set_title('Reprojected MSX band E image')\n",
      "\n",
      "ax2 = fig.add_subplot(1,2,2, projection=WCS(hdu1.header))\n",
      "ax2.imshow(footprint, origin='lower',\n",
      "           vmin=0, vmax=1.5,\n",
      "           cmap=plt.cm.gist_heat)\n",
      "ax2.coords.grid(color='white')\n",
      "ax1.coords['ra'].set_axislabel('Right Ascension')\n",
      "ax1.coords['dec'].set_axislabel('Declination')\n",
      "ax2.coords['dec'].set_axislabel_position('r')\n",
      "ax2.coords['dec'].set_ticklabel_position('r')\n",
      "ax2.set_title('MSX band E image footprint')"
     ],
     "language": "python",
     "metadata": {},
     "outputs": []
    },
    {
     "cell_type": "markdown",
     "metadata": {},
     "source": [
      "We can then write out the image to a new FITS file. Note that, as for plotting, we can use the header from the 2MASS image since both images are now in the same projection:\n",
      "\n"
     ]
    },
    {
     "cell_type": "code",
     "collapsed": false,
     "input": [
      "fits.writeto('msx_on_2mass_header.fits', array, hdu1.header, clobber=True)"
     ],
     "language": "python",
     "metadata": {},
     "outputs": []
    },
    {
     "cell_type": "heading",
     "level": 2,
     "metadata": {},
     "source": [
      "Pratical Exercise"
     ]
    },
    {
     "cell_type": "markdown",
     "metadata": {},
     "source": [
      "Try and reproject some of your images if you have any! Otherwise, you can check the [documentation](http://reproject.readthedocs.org/en/stable/) for reproject to see what other options/algorithms are available."
     ]
    }
   ],
   "metadata": {}
  }
 ]
}