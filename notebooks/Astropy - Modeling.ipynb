{
 "metadata": {
  "name": "",
  "signature": "sha256:f71b218aff56e195ad53e94053daea954048a7fbeed50a02a2f47867124a0b96"
 },
 "nbformat": 3,
 "nbformat_minor": 0,
 "worksheets": [
  {
   "cells": [
    {
     "cell_type": "heading",
     "level": 1,
     "metadata": {},
     "source": [
      "Astropy - Modeling"
     ]
    },
    {
     "cell_type": "code",
     "collapsed": false,
     "input": [
      "import numpy as np\n",
      "%matplotlib inline\n",
      "import matplotlib.pyplot as plt"
     ],
     "language": "python",
     "metadata": {},
     "outputs": []
    },
    {
     "cell_type": "code",
     "collapsed": false,
     "input": [
      "from astropy.modeling import models, fitting"
     ],
     "language": "python",
     "metadata": {},
     "outputs": []
    },
    {
     "cell_type": "heading",
     "level": 2,
     "metadata": {},
     "source": [
      "Setting up models"
     ]
    },
    {
     "cell_type": "code",
     "collapsed": false,
     "input": [
      "g = models.Gaussian1D(amplitude=1.2, mean=0.9, stddev=0.5)\n",
      "print(g)"
     ],
     "language": "python",
     "metadata": {},
     "outputs": []
    },
    {
     "cell_type": "markdown",
     "metadata": {},
     "source": [
      "Model parameters can be accessed as attributes:"
     ]
    },
    {
     "cell_type": "code",
     "collapsed": false,
     "input": [
      "g.amplitude"
     ],
     "language": "python",
     "metadata": {},
     "outputs": []
    },
    {
     "cell_type": "code",
     "collapsed": false,
     "input": [
      "g.mean"
     ],
     "language": "python",
     "metadata": {},
     "outputs": []
    },
    {
     "cell_type": "code",
     "collapsed": false,
     "input": [
      "g.stddev"
     ],
     "language": "python",
     "metadata": {},
     "outputs": []
    },
    {
     "cell_type": "markdown",
     "metadata": {},
     "source": [
      "and can also be updated via those attributes:"
     ]
    },
    {
     "cell_type": "code",
     "collapsed": false,
     "input": [
      "g.amplitude = 0.8\n",
      "g.amplitude"
     ],
     "language": "python",
     "metadata": {},
     "outputs": []
    },
    {
     "cell_type": "markdown",
     "metadata": {},
     "source": [
      "Models can be evaluated directly (so they are useful without even fitting):"
     ]
    },
    {
     "cell_type": "code",
     "collapsed": false,
     "input": [
      "g(1.3)"
     ],
     "language": "python",
     "metadata": {},
     "outputs": []
    },
    {
     "cell_type": "code",
     "collapsed": false,
     "input": [
      "x = np.linspace(-5, 5, 1000)\n",
      "plt.plot(x, g(x))"
     ],
     "language": "python",
     "metadata": {},
     "outputs": []
    },
    {
     "cell_type": "heading",
     "level": 2,
     "metadata": {},
     "source": [
      "Fitting models to data"
     ]
    },
    {
     "cell_type": "markdown",
     "metadata": {},
     "source": [
      "We start off by generating fake data:"
     ]
    },
    {
     "cell_type": "code",
     "collapsed": false,
     "input": [
      "np.random.seed(0)\n",
      "x = np.linspace(-5., 5., 200)\n",
      "y = 3 * np.exp(-0.5 * (x - 1.3)**2 / 0.8**2)\n",
      "y += np.random.normal(0., 0.2, x.shape)\n",
      "plt.plot(x, y, 'ko')"
     ],
     "language": "python",
     "metadata": {},
     "outputs": []
    },
    {
     "cell_type": "markdown",
     "metadata": {},
     "source": [
      "We set up a fitter:"
     ]
    },
    {
     "cell_type": "code",
     "collapsed": false,
     "input": [
      "fitter = fitting.LevMarLSQFitter()"
     ],
     "language": "python",
     "metadata": {},
     "outputs": []
    },
    {
     "cell_type": "markdown",
     "metadata": {},
     "source": [
      "We now fit the data using a trapezoid model and a Gaussian"
     ]
    },
    {
     "cell_type": "code",
     "collapsed": false,
     "input": [
      "t_init = models.Trapezoid1D(amplitude=1., x_0=0., width=1., slope=0.5)\n",
      "t = fitter(t_init, x, y)\n",
      "\n",
      "g_init = models.Gaussian1D(amplitude=1., mean=0, stddev=1.)\n",
      "g = fitter(g_init, x, y)"
     ],
     "language": "python",
     "metadata": {},
     "outputs": []
    },
    {
     "cell_type": "markdown",
     "metadata": {},
     "source": [
      "Finally we can plot the data and the two models"
     ]
    },
    {
     "cell_type": "code",
     "collapsed": false,
     "input": [
      "plt.figure(figsize=(8,5))\n",
      "plt.plot(x, y, 'ko')\n",
      "plt.plot(x, t(x), 'b-', lw=2, label='Trapezoid')\n",
      "plt.plot(x, g(x), 'r-', lw=2, label='Gaussian')\n",
      "plt.xlabel('Position')\n",
      "plt.ylabel('Flux')\n",
      "plt.legend(loc=2)"
     ],
     "language": "python",
     "metadata": {},
     "outputs": []
    },
    {
     "cell_type": "heading",
     "level": 2,
     "metadata": {},
     "source": [
      "Multi-dimensional models"
     ]
    },
    {
     "cell_type": "markdown",
     "metadata": {},
     "source": [
      "The modeling framework is not restricted to 1-d models and datasets. To demonstrate this, we create a 2-d dataset:"
     ]
    },
    {
     "cell_type": "code",
     "collapsed": false,
     "input": [
      "np.random.seed(0)\n",
      "y, x = np.mgrid[:128, :128]\n",
      "z = 2. * x ** 2 - 0.5 * x ** 2 + 1.5 * x * y - 1.\n",
      "z += np.random.normal(0., 0.1, z.shape) * 50000.\n",
      "plt.imshow(z, origin='lower', interpolation='nearest', vmin=-1e4, vmax=5e4)"
     ],
     "language": "python",
     "metadata": {},
     "outputs": []
    },
    {
     "cell_type": "markdown",
     "metadata": {},
     "source": [
      "As before, we set up a fitter:"
     ]
    },
    {
     "cell_type": "code",
     "collapsed": false,
     "input": [
      "fitter = fitting.LinearLSQFitter()"
     ],
     "language": "python",
     "metadata": {},
     "outputs": []
    },
    {
     "cell_type": "markdown",
     "metadata": {},
     "source": [
      "We create the initial model:"
     ]
    },
    {
     "cell_type": "code",
     "collapsed": false,
     "input": [
      "p_init = models.Polynomial2D(degree=2)"
     ],
     "language": "python",
     "metadata": {},
     "outputs": []
    },
    {
     "cell_type": "markdown",
     "metadata": {},
     "source": [
      "and we can now fit the model to the data:"
     ]
    },
    {
     "cell_type": "code",
     "collapsed": false,
     "input": [
      "p = fitter(p_init, x, y, z)"
     ],
     "language": "python",
     "metadata": {},
     "outputs": []
    },
    {
     "cell_type": "markdown",
     "metadata": {},
     "source": [
      "We can now look at the best model"
     ]
    },
    {
     "cell_type": "code",
     "collapsed": false,
     "input": [
      "plt.imshow(p(x, y), origin='lower', interpolation='nearest', vmin=-1e4, vmax=5e4)"
     ],
     "language": "python",
     "metadata": {},
     "outputs": []
    },
    {
     "cell_type": "markdown",
     "metadata": {},
     "source": [
      "and the residual"
     ]
    },
    {
     "cell_type": "code",
     "collapsed": false,
     "input": [
      "plt.imshow(z - p(x, y), origin='lower', interpolation='nearest', vmin=-1e4, vmax=5e4)"
     ],
     "language": "python",
     "metadata": {},
     "outputs": []
    },
    {
     "cell_type": "heading",
     "level": 2,
     "metadata": {},
     "source": [
      "Compound models"
     ]
    },
    {
     "cell_type": "markdown",
     "metadata": {},
     "source": [
      "In some cases, we may want to fit multiple models at the same time (for example two Gaussians, or a background polynomial and a Gaussian, etc.). This is now possible in Astropy 1.0 and later. As before we start off by generating synthetic data:"
     ]
    },
    {
     "cell_type": "code",
     "collapsed": false,
     "input": [
      "np.random.seed(42)\n",
      "g1 = models.Gaussian1D(1, 0, 0.2)\n",
      "g2 = models.Gaussian1D(2.5, 0.5, 0.1)\n",
      "x = np.linspace(-1, 1, 200)\n",
      "y = g1(x) + g2(x) + np.random.normal(0., 0.2, x.shape)\n",
      "plt.plot(x, y, 'ko')"
     ],
     "language": "python",
     "metadata": {},
     "outputs": []
    },
    {
     "cell_type": "markdown",
     "metadata": {},
     "source": [
      "Now we fit this with a combination of two Gaussians:"
     ]
    },
    {
     "cell_type": "code",
     "collapsed": false,
     "input": [
      "gg_init = models.Gaussian1D(1, 0, 0.1) + models.Gaussian1D(2, 0.5, 0.1)\n",
      "fitter = fitting.SLSQPLSQFitter()\n",
      "gg_fit = fitter(gg_init, x, y)"
     ],
     "language": "python",
     "metadata": {},
     "outputs": []
    },
    {
     "cell_type": "markdown",
     "metadata": {},
     "source": [
      "Finally, we can plot the best-fitting model:"
     ]
    },
    {
     "cell_type": "code",
     "collapsed": false,
     "input": [
      "# Plot the data with the best-fit model\n",
      "plt.figure(figsize=(8,5))\n",
      "plt.plot(x, y, 'ko')\n",
      "plt.plot(x, gg_fit(x), 'r-', lw=2)\n",
      "plt.xlabel('Position')\n",
      "plt.ylabel('Flux')"
     ],
     "language": "python",
     "metadata": {},
     "outputs": []
    },
    {
     "cell_type": "heading",
     "level": 2,
     "metadata": {},
     "source": [
      "Exercises"
     ]
    },
    {
     "cell_type": "heading",
     "level": 3,
     "metadata": {},
     "source": [
      "Level 1"
     ]
    },
    {
     "cell_type": "markdown",
     "metadata": {},
     "source": [
      "Read in the data from [data/fitting_data.txt](data/fitting_data.txt) and try and fit it with a straight line and a parabola, then make a plot of the resulting fits."
     ]
    },
    {
     "cell_type": "heading",
     "level": 3,
     "metadata": {},
     "source": [
      "Level 2"
     ]
    },
    {
     "cell_type": "markdown",
     "metadata": {},
     "source": [
      "Download the first FITS spectrum from [this page](http://www.astronomy.ohio-state.edu/~agnwatch/n5548/spectra/IUE1989/), read it in with ``astropy.io.fits`` and try and fit a compound model of a gaussian plus a constant to the spectrum (just assume the points are equally spaced in wavelength space, even if that may not be true). **Hint**: you may have to play around with setting better initial values for the position of the line."
     ]
    },
    {
     "cell_type": "heading",
     "level": 3,
     "metadata": {},
     "source": [
      "Level 3"
     ]
    },
    {
     "cell_type": "markdown",
     "metadata": {},
     "source": [
      "Try and read in an image of a star field, and try fitting a 2D Gaussian to one of the stars."
     ]
    }
   ],
   "metadata": {}
  }
 ]
}