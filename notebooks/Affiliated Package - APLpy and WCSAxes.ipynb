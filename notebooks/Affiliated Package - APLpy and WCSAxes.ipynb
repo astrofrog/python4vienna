{
 "metadata": {
  "name": "",
  "signature": "sha256:4e6f45a9838864d72ab2cc287ef7b3ef4201deeb7029dbb6b3e590ba9109bdb7"
 },
 "nbformat": 3,
 "nbformat_minor": 0,
 "worksheets": [
  {
   "cells": [
    {
     "cell_type": "heading",
     "level": 1,
     "metadata": {},
     "source": [
      "Affiliated Packages: APLpy and WCSAxes"
     ]
    },
    {
     "cell_type": "markdown",
     "metadata": {},
     "source": [
      "You can install the required packages by doing:\n",
      "\n",
      "    pip install aplpy wcsaxes"
     ]
    },
    {
     "cell_type": "heading",
     "level": 2,
     "metadata": {},
     "source": [
      "APLpy"
     ]
    },
    {
     "cell_type": "markdown",
     "metadata": {},
     "source": [
      "[APLpy](http://aplpy.github.io/) (the Astronomical Plotting Library in Python) is a Python module aimed at producing publication-quality plots of astronomical imaging data in FITS format. The module uses Matplotlib, a powerful and interactive plotting package. It is capable of creating output files in several graphical formats, including EPS, PDF, PS, PNG, and SVG.\n",
      "\n",
      "APLpy pre-dates Astropy, but has been updated to match requirements to be included as an Astropy-affiliated package."
     ]
    },
    {
     "cell_type": "code",
     "collapsed": false,
     "input": [
      "import aplpy\n",
      "%matplotlib inline\n",
      "import matplotlib.pyplot as plt\n",
      "\n",
      "f = aplpy.FITSFigure('data/msx.fits')\n",
      "f.show_colorscale(vmin=0, vmax=1.e-4)\n",
      "f.show_contour('data/msx.fits',colors='white')\n",
      "f.add_grid()\n",
      "plt.show()"
     ],
     "language": "python",
     "metadata": {},
     "outputs": []
    },
    {
     "cell_type": "markdown",
     "metadata": {},
     "source": [
      "One downside of APLpy is that the ways of customizing figures is not always consistent with the Matplotlib API so it can be a bit confusing in some cases to switch between one and the other. So we have developed a new package called **WCSAxes** which aims to provide a more consistent user experience. In future, APLpy will be updated to use WCSAxes behind the scenes and will also provide more convenience layers on top of that package."
     ]
    },
    {
     "cell_type": "heading",
     "level": 2,
     "metadata": {},
     "source": [
      "WCSAxes"
     ]
    },
    {
     "cell_type": "heading",
     "level": 3,
     "metadata": {},
     "source": [
      "Making basic plots"
     ]
    },
    {
     "cell_type": "markdown",
     "metadata": {},
     "source": [
      "To make a similar plot to the one above, you would do the following:"
     ]
    },
    {
     "cell_type": "code",
     "collapsed": false,
     "input": [
      "from astropy.wcs import WCS\n",
      "wcs = WCS('data/msx.fits')\n",
      "\n",
      "from astropy.io import fits\n",
      "data = fits.getdata('data/msx.fits')"
     ],
     "language": "python",
     "metadata": {},
     "outputs": []
    },
    {
     "cell_type": "code",
     "collapsed": false,
     "input": [
      "fig = plt.figure(figsize=(8,8))\n",
      "ax = fig.add_subplot(1, 1, 1, projection=wcs)\n",
      "ax.imshow(data, vmin=0, vmax=1.e-4, origin='lower')\n",
      "ax.grid(color='white', alpha=1, ls='solid')\n",
      "ax.set_xlabel(\"Galactic Longitude\")\n",
      "ax.set_ylabel(\"Galactic Latitude\")"
     ],
     "language": "python",
     "metadata": {},
     "outputs": []
    },
    {
     "cell_type": "heading",
     "level": 3,
     "metadata": {},
     "source": [
      "Overlaying coordinate systems"
     ]
    },
    {
     "cell_type": "code",
     "collapsed": false,
     "input": [
      "fig = plt.figure(figsize=(8,8))\n",
      "ax = fig.add_axes([0.25, 0.25, 0.6, 0.6], projection=wcs)\n",
      "ax.imshow(data, vmin=0, vmax=1.e-4, origin='lower', cmap=plt.cm.gist_heat)\n",
      "\n",
      "overlay = ax.get_coords_overlay('fk5')\n",
      "\n",
      "ax.coords['glon'].set_ticks(color='white')\n",
      "ax.coords['glat'].set_ticks(color='white')\n",
      "\n",
      "ax.coords['glon'].set_axislabel('Galactic Longitude')\n",
      "ax.coords['glat'].set_axislabel('Galactic Latitude')\n",
      "\n",
      "ax.coords.grid(color='yellow', linestyle='solid', alpha=1)\n",
      "\n",
      "overlay['ra'].set_ticks(color='white')\n",
      "overlay['dec'].set_ticks(color='white')\n",
      "\n",
      "overlay['ra'].set_axislabel('Right Ascension')\n",
      "overlay['dec'].set_axislabel('Declination')\n",
      "\n",
      "overlay.grid(color='white', linestyle='solid', alpha=1)"
     ],
     "language": "python",
     "metadata": {},
     "outputs": []
    },
    {
     "cell_type": "heading",
     "level": 3,
     "metadata": {},
     "source": [
      "Slicing data cubes"
     ]
    },
    {
     "cell_type": "code",
     "collapsed": false,
     "input": [
      "from wcsaxes import datasets\n",
      "\n",
      "hdu = datasets.fetch_l1448_co_hdu()\n",
      "wcs = WCS(hdu.header)\n",
      "image_data = hdu.data\n",
      "\n",
      "fig = plt.figure(figsize=(6,3))\n",
      "ax = fig.add_axes([0.1, 0.1, 0.8, 0.8], projection=wcs,\n",
      "                  slices=(50, 'x', 'y'))\n",
      "\n",
      "ax.coords[2].set_ticks(exclude_overlapping=True)\n",
      "ax.imshow(image_data[:, :, 50], cmap=plt.cm.gist_heat)"
     ],
     "language": "python",
     "metadata": {},
     "outputs": []
    },
    {
     "cell_type": "heading",
     "level": 2,
     "metadata": {},
     "source": [
      "Practical Exercises"
     ]
    },
    {
     "cell_type": "markdown",
     "metadata": {},
     "source": [
      "Try and use either or both APLpy and WCSAxes to plot your own data!"
     ]
    }
   ],
   "metadata": {}
  }
 ]
}