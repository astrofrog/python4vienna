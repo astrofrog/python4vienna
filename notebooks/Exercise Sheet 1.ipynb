{
 "metadata": {
  "name": ""
 },
 "nbformat": 3,
 "nbformat_minor": 0,
 "worksheets": [
  {
   "cells": [
    {
     "cell_type": "heading",
     "level": 1,
     "metadata": {},
     "source": [
      "Exercise Sheet 1"
     ]
    },
    {
     "cell_type": "heading",
     "level": 2,
     "metadata": {},
     "source": [
      "Exercise 1"
     ]
    },
    {
     "cell_type": "markdown",
     "metadata": {},
     "source": [
      "Write a program that will print out all the prime numbers (numbers divisible only by one and themselves) below 1000. Also calculate the mean of these prime numbers, and print out a message that says ``\"Mean: \"`` followed by the mean value.\n",
      "\n",
      "Hint: the ``%`` operator can be used to find the remainder of the division of an integer by another:"
     ]
    },
    {
     "cell_type": "code",
     "collapsed": false,
     "input": [
      "20 % 3"
     ],
     "language": "python",
     "metadata": {},
     "outputs": [
      {
       "metadata": {},
       "output_type": "pyout",
       "prompt_number": 2,
       "text": [
        "2"
       ]
      }
     ],
     "prompt_number": 2
    },
    {
     "cell_type": "heading",
     "level": 2,
     "metadata": {},
     "source": [
      "Exercise 2"
     ]
    },
    {
     "cell_type": "markdown",
     "metadata": {},
     "source": [
      "Try and write a function that will return the factorial of a number (e.g. ``5!=5*4*3*2*1``), and test it out by comparing to the output of ``math.factorial``. First you can try and write a function that uses a loop internally.\n",
      "\n",
      "It is possible for functions to call themselves (**recursive** functions), so see if you can write a function that uses **no** loops! (again, test the results compared to ``math.factorial``)."
     ]
    },
    {
     "cell_type": "heading",
     "level": 2,
     "metadata": {},
     "source": [
      "Exercise 3"
     ]
    },
    {
     "cell_type": "markdown",
     "metadata": {},
     "source": [
      "Download [this](data/munich_temperatures_average.txt) data file, which gives the temperature in Munich every day for several years. Read in the data, and make a plot of the temperature against time. Then, make a plot of the temperature against the fractional day of the year (where 0 is January 1st, and 1 is December 31), but without the year information, so that all the years are plotted on top of each other.\n",
      "\n",
      "Now try [this](data/munich_temperatures_average_with_bad_data.txt) data file, which includes some bad data. Make a plot as before, but make sure that you use Numpy masking to get rid of the bad temperature values."
     ]
    }
   ],
   "metadata": {}
  }
 ]
}