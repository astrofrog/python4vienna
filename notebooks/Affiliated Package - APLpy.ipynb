{
 "metadata": {
  "name": ""
 },
 "nbformat": 3,
 "nbformat_minor": 0,
 "worksheets": [
  {
   "cells": [
    {
     "cell_type": "markdown",
     "metadata": {},
     "source": [
      "APLpy\n",
      "=====\n",
      "\n",
      "[APLpy](http://aplpy.github.io/) (the Astronomical Plotting Library in Python) is a Python module aimed at producing publication-quality plots of astronomical imaging data in FITS format. The module uses Matplotlib, a powerful and interactive plotting package. It is capable of creating output files in several graphical formats, including EPS, PDF, PS, PNG, and SVG.\n",
      "\n",
      "APLpy pre-dates Astropy, but has been updated to match requirements to be included as an Astropy-affiliated package.\n",
      "\n",
      "You can download the data used below [here](data/msx.fits)."
     ]
    },
    {
     "cell_type": "code",
     "collapsed": false,
     "input": [
      "import aplpy\n",
      "f = aplpy.FITSFigure('data/msx.fits')\n",
      "f.show_colorscale(vmin=0, vmax=1.e-4)\n",
      "f.show_contour('data/msx.fits',colors='white')\n",
      "f.add_grid()"
     ],
     "language": "python",
     "metadata": {},
     "outputs": []
    }
   ],
   "metadata": {}
  }
 ]
}