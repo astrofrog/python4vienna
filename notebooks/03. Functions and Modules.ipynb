{
 "metadata": {
  "name": ""
 },
 "nbformat": 3,
 "nbformat_minor": 0,
 "worksheets": [
  {
   "cells": [
    {
     "cell_type": "markdown",
     "metadata": {
      "slideshow": {
       "slide_type": "slide"
      }
     },
     "source": [
      "Modules and Functions\n",
      "====================="
     ]
    },
    {
     "cell_type": "markdown",
     "metadata": {
      "slideshow": {
       "slide_type": "slide"
      }
     },
     "source": [
      "Functions\n",
      "---------"
     ]
    },
    {
     "cell_type": "markdown",
     "metadata": {
      "slideshow": {
       "slide_type": "slide"
      }
     },
     "source": [
      "Let's say you want to write a program that checks if certain numbers are prime, and then you want to check later in the program if another set of values is prime. You *could* write:"
     ]
    },
    {
     "cell_type": "code",
     "collapsed": false,
     "input": [
      "for value in [3,5,6,8,9]:\n",
      "    prime = True\n",
      "    for i in range(2, int(value ** 0.5) + 1):\n",
      "        if value % i == 0:\n",
      "            prime = False\n",
      "    if prime:\n",
      "        print value, \"is prime\" "
     ],
     "language": "python",
     "metadata": {
      "slideshow": {
       "slide_type": "-"
      }
     },
     "outputs": []
    },
    {
     "cell_type": "markdown",
     "metadata": {
      "slideshow": {
       "slide_type": "slide"
      }
     },
     "source": [
      "then:"
     ]
    },
    {
     "cell_type": "code",
     "collapsed": false,
     "input": [
      "for value in [34,12,27,21,23,13]:\n",
      "    prime = True\n",
      "    for i in range(2, int(value ** 0.5) + 1):\n",
      "        if value % i == 0:\n",
      "            prime = False\n",
      "    if prime:\n",
      "        print value, \"is prime\" "
     ],
     "language": "python",
     "metadata": {},
     "outputs": []
    },
    {
     "cell_type": "markdown",
     "metadata": {
      "slideshow": {
       "slide_type": "slide"
      }
     },
     "source": [
      "But this is inefficient, because you are duplicating the code that checks if a value is prime. This is why, if you ever need to do something twice or more, and it is a well-defined task, think about putting it in a function."
     ]
    },
    {
     "cell_type": "markdown",
     "metadata": {
      "slideshow": {
       "slide_type": "slide"
      }
     },
     "source": [
      "For example:"
     ]
    },
    {
     "cell_type": "code",
     "collapsed": false,
     "input": [
      "def is_prime(value):\n",
      "    prime = True\n",
      "    for i in range(2, int(value ** 0.5) + 1):\n",
      "        if value % i == 0:\n",
      "            prime = False\n",
      "    return prime"
     ],
     "language": "python",
     "metadata": {},
     "outputs": []
    },
    {
     "cell_type": "markdown",
     "metadata": {
      "slideshow": {
       "slide_type": "slide"
      }
     },
     "source": [
      "Once the function is defined, you can then do:"
     ]
    },
    {
     "cell_type": "code",
     "collapsed": false,
     "input": [
      "for value in [3,5,6,8,9]:\n",
      "    if is_prime(value):\n",
      "        print value, \"is prime\" \n",
      "\n",
      "for value in [34,12,27,21,23,13]:\n",
      "    if is_prime(value):\n",
      "        print value, \"is prime\" "
     ],
     "language": "python",
     "metadata": {},
     "outputs": []
    },
    {
     "cell_type": "markdown",
     "metadata": {
      "slideshow": {
       "slide_type": "slide"
      }
     },
     "source": [
      "The syntax for a **function** is:\n",
      "    \n",
      "    def function_name(arguments):\n",
      "        # code here\n",
      "        return values"
     ]
    },
    {
     "cell_type": "markdown",
     "metadata": {
      "slideshow": {
       "slide_type": "-"
      }
     },
     "source": [
      "Functions are the **building blocks** of programs - think of them as basic units that are given a certain input an accomplish a certain task. Over time, you can build up more complex programs while preserving readability."
     ]
    },
    {
     "cell_type": "markdown",
     "metadata": {
      "slideshow": {
       "slide_type": "-"
      }
     },
     "source": [
      "Similarly to ``if`` statements and ``for`` and ``while`` loops, indentation is very important because it shows where the function starts and ends.\n",
      "\n",
      "**Note**: it is a common convention to always use lowercase names for functions."
     ]
    },
    {
     "cell_type": "markdown",
     "metadata": {
      "slideshow": {
       "slide_type": "slide"
      }
     },
     "source": [
      "A function can take multiple arguments..."
     ]
    },
    {
     "cell_type": "code",
     "collapsed": false,
     "input": [
      "def add(a, b):\n",
      "    return a + b\n",
      "\n",
      "print add(1,3)\n",
      "print add(1.,3.2)\n",
      "print add(4,3.)"
     ],
     "language": "python",
     "metadata": {},
     "outputs": []
    },
    {
     "cell_type": "markdown",
     "metadata": {
      "slideshow": {
       "slide_type": "slide"
      }
     },
     "source": [
      "... and can also return multiple values:"
     ]
    },
    {
     "cell_type": "code",
     "collapsed": false,
     "input": [
      "def double_and_halve(value):\n",
      "    return value * 2., value / 2.\n",
      "\n",
      "print double_and_halve(5.)"
     ],
     "language": "python",
     "metadata": {},
     "outputs": []
    },
    {
     "cell_type": "markdown",
     "metadata": {
      "slideshow": {
       "slide_type": "slide"
      }
     },
     "source": [
      "If multiple values are returned, you can store them in separate variables."
     ]
    },
    {
     "cell_type": "code",
     "collapsed": false,
     "input": [
      "d, h = double_and_halve(5.)"
     ],
     "language": "python",
     "metadata": {},
     "outputs": []
    },
    {
     "cell_type": "code",
     "collapsed": false,
     "input": [
      "print d"
     ],
     "language": "python",
     "metadata": {},
     "outputs": []
    },
    {
     "cell_type": "code",
     "collapsed": false,
     "input": [
      "print h"
     ],
     "language": "python",
     "metadata": {},
     "outputs": []
    },
    {
     "cell_type": "markdown",
     "metadata": {
      "slideshow": {
       "slide_type": "slide"
      }
     },
     "source": [
      "Functions can call other functions:"
     ]
    },
    {
     "cell_type": "code",
     "collapsed": false,
     "input": [
      "def is_divisible_by(value, other_value):\n",
      "    return value % other_value == 0\n",
      "\n",
      "def is_prime(value):\n",
      "    prime = True\n",
      "    for i in range(2, int(value ** 0.5) + 1):\n",
      "        if is_divisible_by(value, i):\n",
      "            prime = False\n",
      "    return prime"
     ],
     "language": "python",
     "metadata": {},
     "outputs": []
    },
    {
     "cell_type": "code",
     "collapsed": false,
     "input": [
      "for value in range(2, 30):\n",
      "    if is_prime(value):\n",
      "        print value, \"is prime\" "
     ],
     "language": "python",
     "metadata": {
      "slideshow": {
       "slide_type": "slide"
      }
     },
     "outputs": []
    },
    {
     "cell_type": "markdown",
     "metadata": {
      "slideshow": {
       "slide_type": "-"
      }
     },
     "source": [
      "Just because you can put code in functions doesn't mean you always should. It's best to try and break up the code into units that make sense - in the end, your function should ideally have a name that everyone can understand."
     ]
    },
    {
     "cell_type": "heading",
     "level": 2,
     "metadata": {},
     "source": [
      "Built-in functions"
     ]
    },
    {
     "cell_type": "markdown",
     "metadata": {
      "slideshow": {
       "slide_type": "slide"
      }
     },
     "source": [
      "Some of you may have already noticed that there are a few functions that are defined by default in Python:"
     ]
    },
    {
     "cell_type": "code",
     "collapsed": false,
     "input": [
      "x = [1,3,6,8,3]"
     ],
     "language": "python",
     "metadata": {},
     "outputs": []
    },
    {
     "cell_type": "code",
     "collapsed": false,
     "input": [
      "len(x)"
     ],
     "language": "python",
     "metadata": {},
     "outputs": []
    },
    {
     "cell_type": "code",
     "collapsed": false,
     "input": [
      "sum(x)"
     ],
     "language": "python",
     "metadata": {
      "slideshow": {
       "slide_type": "slide"
      }
     },
     "outputs": []
    },
    {
     "cell_type": "code",
     "collapsed": false,
     "input": [
      "int(1.2)"
     ],
     "language": "python",
     "metadata": {},
     "outputs": []
    },
    {
     "cell_type": "markdown",
     "metadata": {
      "slideshow": {
       "slide_type": "slide"
      }
     },
     "source": [
      "A full list of built-in functions is available [here](http://docs.python.org/2/library/functions.html). Note that there are not *that* many - these are only the most common functions. Most functions are in fact kept inside modules, which we will now cover."
     ]
    },
    {
     "cell_type": "markdown",
     "metadata": {
      "slideshow": {
       "slide_type": "slide"
      }
     },
     "source": [
      "Modules\n",
      "-------"
     ]
    },
    {
     "cell_type": "markdown",
     "metadata": {
      "slideshow": {
       "slide_type": "-"
      }
     },
     "source": [
      "The built-in modules are referred to as the *Standard Library*, and you can\n",
      "find a full list of the available functionality in the [Python Documentation](http://docs.python.org/library/index.html)."
     ]
    },
    {
     "cell_type": "markdown",
     "metadata": {
      "slideshow": {
       "slide_type": "-"
      }
     },
     "source": [
      "To use modules in your Python session or script, you need to **import** them. The\n",
      "following example shows how to import the built-in ``math`` module, which\n",
      "contains a number of useful mathematical functions:"
     ]
    },
    {
     "cell_type": "code",
     "collapsed": false,
     "input": [
      "import math"
     ],
     "language": "python",
     "metadata": {},
     "outputs": []
    },
    {
     "cell_type": "markdown",
     "metadata": {
      "slideshow": {
       "slide_type": "slide"
      }
     },
     "source": [
      "You can then access functions and other objects in the module with ``math.<function>``, for example:"
     ]
    },
    {
     "cell_type": "code",
     "collapsed": false,
     "input": [
      "math.sin(2.3)"
     ],
     "language": "python",
     "metadata": {},
     "outputs": []
    },
    {
     "cell_type": "code",
     "collapsed": false,
     "input": [
      "math.factorial(20)"
     ],
     "language": "python",
     "metadata": {},
     "outputs": []
    },
    {
     "cell_type": "code",
     "collapsed": false,
     "input": [
      "math.pi"
     ],
     "language": "python",
     "metadata": {},
     "outputs": []
    },
    {
     "cell_type": "markdown",
     "metadata": {
      "slideshow": {
       "slide_type": "-"
      }
     },
     "source": [
      "Because these modules exist, it means that if what you want to do is very common, it means it probably already exists, and you won't need to write it (making your code easier to read)."
     ]
    },
    {
     "cell_type": "markdown",
     "metadata": {
      "slideshow": {
       "slide_type": "slide"
      }
     },
     "source": [
      "For example, the ``numpy`` module, which we will talk about next week, contains useful functions for finding e.g. the mean, median, and standard deviation of a sequence of numbers:"
     ]
    },
    {
     "cell_type": "code",
     "collapsed": false,
     "input": [
      "import numpy as np"
     ],
     "language": "python",
     "metadata": {},
     "outputs": []
    },
    {
     "cell_type": "code",
     "collapsed": false,
     "input": [
      "li = [1,2,7,3,1,3]\n",
      "np.mean(li)"
     ],
     "language": "python",
     "metadata": {},
     "outputs": []
    },
    {
     "cell_type": "code",
     "collapsed": false,
     "input": [
      "np.median(li)"
     ],
     "language": "python",
     "metadata": {
      "slideshow": {
       "slide_type": "-"
      }
     },
     "outputs": []
    },
    {
     "cell_type": "code",
     "collapsed": false,
     "input": [
      "np.std(li)"
     ],
     "language": "python",
     "metadata": {},
     "outputs": []
    },
    {
     "cell_type": "markdown",
     "metadata": {
      "slideshow": {
       "slide_type": "-"
      }
     },
     "source": [
      "Notice that in the above case, we used ``import numpy as np`` instead of ``import numpy`` - this means that we can rename the module so that it's not as long to type in the program."
     ]
    },
    {
     "cell_type": "markdown",
     "metadata": {
      "slideshow": {
       "slide_type": "slide"
      }
     },
     "source": [
      "Finally, it's also possible to simply import the functions needed directly:"
     ]
    },
    {
     "cell_type": "code",
     "collapsed": false,
     "input": [
      "from math import sin, cos\n",
      "sin(3.4)\n",
      "cos(3.4)"
     ],
     "language": "python",
     "metadata": {},
     "outputs": []
    },
    {
     "cell_type": "markdown",
     "metadata": {
      "slideshow": {
       "slide_type": "slide"
      }
     },
     "source": [
      "You may find examples on the internet that use e.g. ``from module import *``, but this is **not** recommended, because it will make it difficult to debug programs, since common debugging tools that rely on just looking at the programs will not know all the functions that are being imported (more on this later)."
     ]
    },
    {
     "cell_type": "markdown",
     "metadata": {
      "slideshow": {
       "slide_type": "slide"
      }
     },
     "source": [
      "Where to find modules and functions [demo]\n",
      "------------------------------------------"
     ]
    },
    {
     "cell_type": "markdown",
     "metadata": {
      "slideshow": {
       "slide_type": "skip"
      }
     },
     "source": [
      "How do you know which modules exist in the first place? The Python documentation contains a [list of modules in the Standard Library](http://docs.python.org/2/library), but you can also simply search the web (*Google is your friend!*). Once you have a module that you think should contain the right kind of function, you can either look at the documentation for that module, or you can use the tab-completion in IPython:\n",
      "    \n",
      "    In [2]: math.<TAB>\n",
      "    math.acos       math.degrees    math.fsum       math.pi\n",
      "    math.acosh      math.e          math.gamma      math.pow\n",
      "    math.asin       math.erf        math.hypot      math.radians\n",
      "    math.asinh      math.erfc       math.isinf      math.sin\n",
      "    math.atan       math.exp        math.isnan      math.sinh\n",
      "    math.atan2      math.expm1      math.ldexp      math.sqrt\n",
      "    math.atanh      math.fabs       math.lgamma     math.tan\n",
      "    math.ceil       math.factorial  math.log        math.tanh\n",
      "    math.copysign   math.floor      math.log10      math.trunc\n",
      "    math.cos        math.fmod       math.log1p      \n",
      "    math.cosh       math.frexp      math.modf    "
     ]
    },
    {
     "cell_type": "code",
     "collapsed": false,
     "input": [],
     "language": "python",
     "metadata": {},
     "outputs": []
    }
   ],
   "metadata": {}
  }
 ]
}